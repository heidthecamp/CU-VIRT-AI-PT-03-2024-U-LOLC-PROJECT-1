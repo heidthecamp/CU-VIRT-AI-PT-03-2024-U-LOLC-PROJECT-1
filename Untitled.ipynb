{
 "cells": [
  {
   "cell_type": "code",
   "execution_count": 18,
   "id": "e526147a-079a-4f6e-99a1-afe7ca11950b",
   "metadata": {},
   "outputs": [
    {
     "name": "stdout",
     "output_type": "stream",
     "text": [
      "   zip_code       city  total_results\n",
      "0     10451      Bronx              1\n",
      "1     10452       None              0\n",
      "2     10453       None              0\n",
      "3     10454      Bronx              1\n",
      "4     10455      Bronx              2\n",
      "5     10456       None              0\n",
      "6     10457       None              0\n",
      "7     10458      Bronx              2\n",
      "8     10459      Bronx              3\n",
      "9     10460      Bronx              5\n",
      "10    10461       None              0\n",
      "11    10462      Bronx              2\n",
      "12    10463      Bronx              4\n",
      "13    10464       None              0\n",
      "14    10465      Bronx              1\n",
      "15    10466      Bronx              2\n",
      "16    10467   New York              5\n",
      "17    10468      Bronx              4\n",
      "18    10469      Bronx              2\n",
      "19    10470      Bronx              1\n",
      "20    10471  Riverdale              4\n",
      "21    10472      Bronx              1\n",
      "22    10473      Bronx              2\n",
      "23    10474      Bronx              1\n",
      "24    10475      Bronx              2\n"
     ]
    },
    {
     "data": {
      "text/plain": [
       "45"
      ]
     },
     "execution_count": 18,
     "metadata": {},
     "output_type": "execute_result"
    }
   ],
   "source": [
    "import requests\n",
    "import pandas as pd\n",
    "\n",
    "def generate_zip_codes(start, end):\n",
    "    return [str(zip_code) for zip_code in range(start, end + 1)]\n",
    "\n",
    "# Using the function to generate zip codes from 10451 to 10475\n",
    "zip_codes = generate_zip_codes(10451, 10475)\n",
    "# print(zip_codes)\n",
    "# # List of zip codes in the Bronx\n",
    "# zip_codes = [\"10451\", \"10452\"]\n",
    "\n",
    "# API key and base URL\n",
    "api_key = \"jrai3U8JjqCEaDWYjsDzJm3m0mvyhAAEGqIHGAfC\"\n",
    "base_url = \"https://developer.nrel.gov/api/alt-fuel-stations/v1.json\"\n",
    "\n",
    "def fetch_data_for_zip_codes(zip_codes):\n",
    "    results = []\n",
    "\n",
    "    # Loop through each zip code and make an API request\n",
    "    for zip_code in zip_codes:\n",
    "        params = {\n",
    "            'api_key': api_key,\n",
    "            'state': 'NY',\n",
    "            'zip': zip_code,\n",
    "            'limit': 1\n",
    "        }\n",
    "        response = requests.get(base_url, params=params)\n",
    "        \n",
    "        if response.status_code == 200:\n",
    "            json_data = response.json()\n",
    "            # Extract city from the first station if available\n",
    "            city = json_data['fuel_stations'][0]['city'] if json_data['fuel_stations'] else None\n",
    "            # Sum total_results\n",
    "            total_results = json_data['total_results']\n",
    "            results.append({'zip_code': zip_code, 'city': city, 'total_results': total_results})\n",
    "        else:\n",
    "            print(f\"Failed to fetch data for ZIP code {zip_code}: Status code {response.status_code}\")\n",
    "\n",
    "    return results\n",
    "\n",
    "# Fetch the data\n",
    "data = fetch_data_for_zip_codes(zip_codes)\n",
    "\n",
    "# Create DataFrame\n",
    "df = pd.DataFrame(data)\n",
    "print(df)\n",
    "total_sum = df['total_results'].sum()\n",
    "total_sum"
   ]
  },
  {
   "cell_type": "code",
   "execution_count": null,
   "id": "f70b835c-4f7b-49da-a16d-764ac7fa4ab6",
   "metadata": {},
   "outputs": [],
   "source": []
  },
  {
   "cell_type": "code",
   "execution_count": null,
   "id": "93338621-df06-43d1-987f-07a383069504",
   "metadata": {},
   "outputs": [],
   "source": []
  }
 ],
 "metadata": {
  "kernelspec": {
   "display_name": "ai_dev",
   "language": "python",
   "name": "ai_dev"
  },
  "language_info": {
   "codemirror_mode": {
    "name": "ipython",
    "version": 3
   },
   "file_extension": ".py",
   "mimetype": "text/x-python",
   "name": "python",
   "nbconvert_exporter": "python",
   "pygments_lexer": "ipython3",
   "version": "3.10.12"
  }
 },
 "nbformat": 4,
 "nbformat_minor": 5
}
