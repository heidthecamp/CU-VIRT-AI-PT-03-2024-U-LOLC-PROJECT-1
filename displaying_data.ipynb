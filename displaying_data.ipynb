{
 "cells": [
  {
   "cell_type": "markdown",
   "metadata": {},
   "source": [
    "## Imports"
   ]
  },
  {
   "cell_type": "code",
   "execution_count": null,
   "metadata": {},
   "outputs": [],
   "source": [
    "# import required libraries\n",
    "import os\n",
    "import pandas as pd\n",
    "import numpy as np\n",
    "import matplotlib.pyplot as plt\n",
    "\n",
    "from time import sleep\n",
    "\n",
    "from random import randint\n",
    "\n",
    "# set the directory for the data\n",
    "data_dir = 'Resources'\n",
    "\n",
    "# set the directory for the output\n",
    "output_dir = 'Output'\n",
    "\n",
    "import pathlib\n",
    "cwd = pathlib.Path().resolve()"
   ]
  },
  {
   "cell_type": "markdown",
   "metadata": {},
   "source": [
    "### Reading in data"
   ]
  },
  {
   "cell_type": "code",
   "execution_count": 63,
   "metadata": {},
   "outputs": [
    {
     "name": "stderr",
     "output_type": "stream",
     "text": [
      "C:\\Users\\Tim\\AppData\\Local\\Temp\\ipykernel_30492\\733177957.py:5: DtypeWarning: Columns (15) have mixed types. Specify dtype option on import or set low_memory=False.\n",
      "  vehicle_df = pd.read_csv(os.path.join(cwd, data_dir, 'Vehicle__Snowmobile__and_Boat_Registrations.csv'))\n"
     ]
    }
   ],
   "source": [
    "\n",
    "aq_df = pd.read_csv(os.path.join(os.getcwd(), output_dir,'air_quality.csv'))\n",
    "ev_stations_df = pd.read_csv(os.path.join(os.getcwd(), data_dir, 'Electric_Vehicle_Charging_Stations.csv'))\n",
    "walkability_df = pd.read_csv(os.path.join(os.getcwd(), data_dir, 'EPA_SmartLocationDatabase_V3_Jan_2021_Final.csv'))\n",
    "# income_df = pd.read_csv(os.path.join(cwd, data_dir, 'Income.csv'))\n",
    "vehicle_df = pd.read_csv(os.path.join(os.getcwd(), data_dir, 'Vehicle__Snowmobile__and_Boat_Registrations.csv'))\n"
   ]
  },
  {
   "cell_type": "markdown",
   "metadata": {},
   "source": [
    "### Format and clean vehicle registaion data"
   ]
  },
  {
   "cell_type": "code",
   "execution_count": 4,
   "metadata": {},
   "outputs": [
    {
     "name": "stderr",
     "output_type": "stream",
     "text": [
      "C:\\Users\\Tim\\AppData\\Local\\Temp\\ipykernel_30492\\3284376526.py:7: SettingWithCopyWarning: \n",
      "A value is trying to be set on a copy of a slice from a DataFrame.\n",
      "Try using .loc[row_indexer,col_indexer] = value instead\n",
      "\n",
      "See the caveats in the documentation: https://pandas.pydata.org/pandas-docs/stable/user_guide/indexing.html#returning-a-view-versus-a-copy\n",
      "  ny_vehcile_regestrations_df['Reg Valid Date'] = pd.to_datetime(ny_vehcile_regestrations_df['Reg Valid Date'])\n",
      "C:\\Users\\Tim\\AppData\\Local\\Temp\\ipykernel_30492\\3284376526.py:8: SettingWithCopyWarning: \n",
      "A value is trying to be set on a copy of a slice from a DataFrame.\n",
      "Try using .loc[row_indexer,col_indexer] = value instead\n",
      "\n",
      "See the caveats in the documentation: https://pandas.pydata.org/pandas-docs/stable/user_guide/indexing.html#returning-a-view-versus-a-copy\n",
      "  ny_vehcile_regestrations_df['Reg Expiration Date'] = pd.to_datetime(ny_vehcile_regestrations_df['Reg Expiration Date'])\n"
     ]
    },
    {
     "data": {
      "text/plain": [
       "City\n",
       "BROOKLYN          536605\n",
       "ROCHESTER         310424\n",
       "BRONX             283219\n",
       "STATEN ISLAND     282800\n",
       "NEW YORK          226600\n",
       "                   ...  \n",
       "KEW GARDN HLL          1\n",
       "KEW GARDNS HL          1\n",
       "KEW GARDNS HLL         1\n",
       "KEW GARENS             1\n",
       "ZONE PARK              1\n",
       "Name: count, Length: 23894, dtype: int64"
      ]
     },
     "metadata": {},
     "output_type": "display_data"
    }
   ],
   "source": [
    "# format and clean vehicle registaion data\n",
    "\n",
    "# filter for NY state\n",
    "ny_vehcile_regestrations_df = vehicle_df[vehicle_df['State'] == 'NY']\n",
    "\n",
    "# convert dates to datetime\n",
    "ny_vehcile_regestrations_df['Reg Valid Date'] = pd.to_datetime(ny_vehcile_regestrations_df['Reg Valid Date'])\n",
    "ny_vehcile_regestrations_df['Reg Expiration Date'] = pd.to_datetime(ny_vehcile_regestrations_df['Reg Expiration Date'])\n",
    "\n",
    "# filter for vehicles\n",
    "ny_vehcile_regestrations_df = ny_vehcile_regestrations_df[ny_vehcile_regestrations_df['Record Type'] == 'VEH']\n",
    "\n",
    "display(ny_vehcile_regestrations_df.value_counts('City'))\n"
   ]
  },
  {
   "cell_type": "markdown",
   "metadata": {},
   "source": [
    "### Data from the five boros"
   ]
  },
  {
   "cell_type": "code",
   "execution_count": 5,
   "metadata": {},
   "outputs": [],
   "source": [
    "# get data for all five boroughs\n",
    "manhattan = ['MANHATTAN', 'NEW YORK', 'BROOKLYN', 'QUEENS', 'BRONX', 'STATEN ISLAND']\n",
    "brooklyn = ['BROOKLYN', 'BRKLYN']\n",
    "queens = [\n",
    "'NEIGHBORHOODS','ALLEY POND PARK','ARVERNE','ASTORIA','ASTORIA HEIGHTS',\n",
    "'AUBURNDALE','BAY TERRACE','BAYSIDE','BAYSIDE HILLS','BAYSWATER','BEECHHURST',\n",
    "'BELLAIRE','BELLE HARBOR','BELLEROSE','BELLEROSE MANOR','BREEZY POINT',\n",
    "'BRIARWOOD','BROAD CHANNEL','BROADWAY-FLUSHING','BROOKVILLE','BROOKVILLE PARK',\n",
    "'CAMBRIA HEIGHTS','COLLEGE POINT','CORONA','CUNNINGHAM PARK','DITMARS-STEINWAY',\n",
    "'DOUGLAS MANOR','DOUGLASTON','DOWNTOWN FLUSHING','EAST ELMHURST','EDGEMERE',\n",
    "'ELMHURST','FAR ROCKAWAY','FLORAL PARK','FLUSHING HEIGHTS',\n",
    "'FLUSHING MEADOWS CORONA PARK','FOREST HILLS','FOREST HILLS GARDENS',\n",
    "'FOREST PARK','FORT TILDEN-JACOB RIIS PARKS','FRESH MEADOWS','GLEN OAKS',\n",
    "'GLENDALE','HAMILTON BEACH''HILLCREST','THE HOLE','HOLLIS','HOLLIS HILLS',\n",
    "'HOLLISWOOD','HOWARD BEACH','HUNTER \\'S POINT','JACKSON HEIGHTS','JAMAICA',\n",
    "'JAMAICA CENTER''JAMAICA ESTATES','JAMAICA HILLS','KEW GARDENS',\n",
    "'KEW GARDENS HILLS','KISSENA','KISSENA PARK','LAURELTON''LINDEN HILL',\n",
    "'LINDENWOOD','LITTLE NECK','LOCUST MANOR','LONG ISLAND CITY','MALBA','MASPETH',\n",
    "'MEADOWMERE','MIDDLE VILLAGE','MURRAY HILL','NEPONSIT','NEW HYDE PARK',\n",
    "'NORTH CORONA','OAKLAND GARDENS','OLD HOWARD BEACH','OZONE PARK','POMONOK',\n",
    "'QUEENS VILLAGE','QUEENSBORO HILL','REGO PARK','RICHMOND HILL',\n",
    "'RICHMOND HILL EAST','RIDGEWOOD''ROCHDALE','ROCKAWAY BEACH','ROCKAWAY PARK',\n",
    "'ROSEDALE','ROXBURY','SOUTH JAMAICA','SOUTH OZONE PARK','SOUTH RICHMOND HILL',\n",
    "'SPRINGFIELD GARDENS','ST. ALBANS','SUNNYSIDE','UTOPIA','WHITESTONE',\n",
    "'WILLETS POINT','WOODHAVEN','WOODSIDE'\n",
    "]\n",
    "bronx = ['BRONX']\n",
    "staten_island = ['STATEN ISLAND']\n",
    "borough_data = manhattan + brooklyn + queens + bronx + staten_island\n",
    "\n"
   ]
  },
  {
   "cell_type": "markdown",
   "metadata": {},
   "source": [
    "### Car data function"
   ]
  },
  {
   "cell_type": "code",
   "execution_count": 6,
   "metadata": {},
   "outputs": [],
   "source": [
    "def getCarData(city_names):\n",
    "    cars = pd.DataFrame()\n",
    "    for city in city_names:\n",
    "        cars = pd.concat([cars, ny_vehcile_regestrations_df.loc[ny_vehcile_regestrations_df['City'] == city]])\n",
    "    cars['VIN'] = cars['VIN'].fillna(value='Unknown')\n",
    "\n",
    "\n",
    "    # groups by VIN and gets the min and max dates for registration\n",
    "    cars = cars.groupby('VIN').agg({'Reg Valid Date': 'min', 'Reg Expiration Date': 'max', 'Fuel Type': 'first'})\n",
    "\n",
    "    # # filter for cars that were registered between 2018 and 2021\n",
    "    cars = cars.reset_index()\n",
    "\n",
    "    # # filter for cars that were registered between 2022 and 2024\n",
    "    cars = cars[(cars['Reg Valid Date'] > '2022-04') & (cars['Reg Valid Date'] < '2024-04')]\n",
    "\n",
    "    return cars"
   ]
  },
  {
   "cell_type": "markdown",
   "metadata": {},
   "source": [
    "### Car Data by boro"
   ]
  },
  {
   "cell_type": "code",
   "execution_count": 16,
   "metadata": {},
   "outputs": [],
   "source": [
    "bronx_cars = getCarData(bronx)\n",
    "brooklyn_cars = getCarData(brooklyn)\n",
    "queens_cars = getCarData(queens)\n",
    "manhattan_cars = getCarData(manhattan)\n",
    "staten_island_cars = getCarData(staten_island)"
   ]
  },
  {
   "cell_type": "markdown",
   "metadata": {},
   "source": [
    "### Fuel type by boro"
   ]
  },
  {
   "cell_type": "code",
   "execution_count": 38,
   "metadata": {},
   "outputs": [],
   "source": [
    "pivot_bronx_cars = pd.pivot_table(data = bronx_cars,values=['VIN'],index = ['Reg Valid Date'],columns = ['Fuel Type'],aggfunc=['value_counts'])\n",
    "pivot_bronx_cars = pivot_bronx_cars.droplevel(1,axis='index')\n",
    "pivot_bronx_cars = pivot_bronx_cars.droplevel(0,axis='columns')\n",
    "pivot_bronx_cars = pivot_bronx_cars.groupby(pivot_bronx_cars.index)[['COMP N/G', 'DIESEL', 'ELECTRIC', 'FLEX', 'GAS', 'NONE', 'OTHER','PROPANE']].sum()\n",
    "\n",
    "pivot_brooklyn_cars = pd.pivot_table(data = brooklyn_cars,values=['VIN'],index = ['Reg Valid Date'],columns = ['Fuel Type'],aggfunc=['value_counts'])\n",
    "pivot_brooklyn_cars = pivot_brooklyn_cars.droplevel(1,axis='index')\n",
    "pivot_brooklyn_cars = pivot_brooklyn_cars.droplevel(0,axis='columns')\n",
    "pivot_brooklyn_cars = pivot_brooklyn_cars.groupby(pivot_brooklyn_cars.index)[['COMP N/G', 'DIESEL', 'ELECTRIC', 'FLEX', 'GAS', 'NONE', 'OTHER','PROPANE']].sum()\n",
    "\n",
    "pivot_queens_cars = pd.pivot_table(data = bronx_cars,values=['VIN'],index = ['Reg Valid Date'],columns = ['Fuel Type'],aggfunc=['value_counts'])\n",
    "pivot_queens_cars = pivot_queens_cars.droplevel(1,axis='index')\n",
    "pivot_queens_cars = pivot_queens_cars.droplevel(0,axis='columns')\n",
    "pivot_queens_cars = pivot_queens_cars.groupby(pivot_queens_cars.index)[['COMP N/G', 'DIESEL', 'ELECTRIC', 'FLEX', 'GAS', 'NONE', 'OTHER','PROPANE']].sum()\n",
    "\n",
    "pivot_manhattan_cars = pd.pivot_table(data = manhattan_cars,values=['VIN'],index = ['Reg Valid Date'],columns = ['Fuel Type'],aggfunc=['value_counts'])\n",
    "pivot_manhattan_cars = pivot_manhattan_cars.droplevel(1,axis='index')\n",
    "pivot_manhattan_cars = pivot_manhattan_cars.droplevel(0,axis='columns')\n",
    "pivot_manhattan_cars = pivot_manhattan_cars.groupby(pivot_manhattan_cars.index)[['COMP N/G', 'DIESEL', 'ELECTRIC', 'FLEX', 'GAS', 'NONE', 'OTHER','PROPANE']].sum()\n",
    "\n",
    "pivot_staten_island_cars = pd.pivot_table(data = staten_island_cars,values=['VIN'],index = ['Reg Valid Date'],columns = ['Fuel Type'],aggfunc=['value_counts'])\n",
    "pivot_staten_island_cars = pivot_staten_island_cars.droplevel(1,axis='index')\n",
    "pivot_staten_island_cars = pivot_staten_island_cars.droplevel(0,axis='columns')\n",
    "pivot_staten_island_cars = pivot_staten_island_cars.groupby(pivot_staten_island_cars.index)[['COMP N/G', 'DIESEL', 'ELECTRIC', 'FLEX', 'GAS', 'NONE', 'OTHER']].sum()\n"
   ]
  },
  {
   "cell_type": "markdown",
   "metadata": {},
   "source": [
    "#### Bronx"
   ]
  },
  {
   "cell_type": "code",
   "execution_count": 40,
   "metadata": {},
   "outputs": [
    {
     "data": {
      "text/html": [
       "<div>\n",
       "<style scoped>\n",
       "    .dataframe tbody tr th:only-of-type {\n",
       "        vertical-align: middle;\n",
       "    }\n",
       "\n",
       "    .dataframe tbody tr th {\n",
       "        vertical-align: top;\n",
       "    }\n",
       "\n",
       "    .dataframe thead th {\n",
       "        text-align: right;\n",
       "    }\n",
       "</style>\n",
       "<table border=\"1\" class=\"dataframe\">\n",
       "  <thead>\n",
       "    <tr style=\"text-align: right;\">\n",
       "      <th></th>\n",
       "      <th>DateObserved</th>\n",
       "      <th>HourObserved</th>\n",
       "      <th>LocalTimeZone</th>\n",
       "      <th>ReportingArea</th>\n",
       "      <th>StateCode</th>\n",
       "      <th>Latitude</th>\n",
       "      <th>Longitude</th>\n",
       "      <th>ParameterName</th>\n",
       "      <th>AQI</th>\n",
       "      <th>CategoryNumber</th>\n",
       "      <th>CategoryName</th>\n",
       "      <th>Category</th>\n",
       "    </tr>\n",
       "  </thead>\n",
       "  <tbody>\n",
       "    <tr>\n",
       "      <th>0</th>\n",
       "      <td>2018-01-01</td>\n",
       "      <td>0</td>\n",
       "      <td>EST</td>\n",
       "      <td>New York City Region</td>\n",
       "      <td>NY</td>\n",
       "      <td>40.8419</td>\n",
       "      <td>-73.8359</td>\n",
       "      <td>PM2.5</td>\n",
       "      <td>57</td>\n",
       "      <td>2</td>\n",
       "      <td>Moderate</td>\n",
       "      <td>{'Number': 2, 'Name': 'Moderate'}</td>\n",
       "    </tr>\n",
       "    <tr>\n",
       "      <th>1</th>\n",
       "      <td>2018-01-15</td>\n",
       "      <td>0</td>\n",
       "      <td>EST</td>\n",
       "      <td>New York City Region</td>\n",
       "      <td>NY</td>\n",
       "      <td>40.8419</td>\n",
       "      <td>-73.8359</td>\n",
       "      <td>PM2.5</td>\n",
       "      <td>55</td>\n",
       "      <td>2</td>\n",
       "      <td>Moderate</td>\n",
       "      <td>{'Number': 2, 'Name': 'Moderate'}</td>\n",
       "    </tr>\n",
       "    <tr>\n",
       "      <th>2</th>\n",
       "      <td>2018-02-01</td>\n",
       "      <td>0</td>\n",
       "      <td>EST</td>\n",
       "      <td>New York City Region</td>\n",
       "      <td>NY</td>\n",
       "      <td>40.8419</td>\n",
       "      <td>-73.8359</td>\n",
       "      <td>PM2.5</td>\n",
       "      <td>61</td>\n",
       "      <td>2</td>\n",
       "      <td>Moderate</td>\n",
       "      <td>{'Number': 2, 'Name': 'Moderate'}</td>\n",
       "    </tr>\n",
       "    <tr>\n",
       "      <th>3</th>\n",
       "      <td>2018-02-15</td>\n",
       "      <td>0</td>\n",
       "      <td>EST</td>\n",
       "      <td>New York City Region</td>\n",
       "      <td>NY</td>\n",
       "      <td>40.8419</td>\n",
       "      <td>-73.8359</td>\n",
       "      <td>PM2.5</td>\n",
       "      <td>70</td>\n",
       "      <td>2</td>\n",
       "      <td>Moderate</td>\n",
       "      <td>{'Number': 2, 'Name': 'Moderate'}</td>\n",
       "    </tr>\n",
       "    <tr>\n",
       "      <th>4</th>\n",
       "      <td>2018-03-01</td>\n",
       "      <td>0</td>\n",
       "      <td>EST</td>\n",
       "      <td>New York City Region</td>\n",
       "      <td>NY</td>\n",
       "      <td>40.8419</td>\n",
       "      <td>-73.8359</td>\n",
       "      <td>PM2.5</td>\n",
       "      <td>58</td>\n",
       "      <td>2</td>\n",
       "      <td>Moderate</td>\n",
       "      <td>{'Number': 2, 'Name': 'Moderate'}</td>\n",
       "    </tr>\n",
       "  </tbody>\n",
       "</table>\n",
       "</div>"
      ],
      "text/plain": [
       "  DateObserved  HourObserved LocalTimeZone         ReportingArea StateCode  \\\n",
       "0   2018-01-01             0           EST  New York City Region        NY   \n",
       "1   2018-01-15             0           EST  New York City Region        NY   \n",
       "2   2018-02-01             0           EST  New York City Region        NY   \n",
       "3   2018-02-15             0           EST  New York City Region        NY   \n",
       "4   2018-03-01             0           EST  New York City Region        NY   \n",
       "\n",
       "   Latitude  Longitude ParameterName  AQI  CategoryNumber CategoryName  \\\n",
       "0   40.8419   -73.8359         PM2.5   57               2     Moderate   \n",
       "1   40.8419   -73.8359         PM2.5   55               2     Moderate   \n",
       "2   40.8419   -73.8359         PM2.5   61               2     Moderate   \n",
       "3   40.8419   -73.8359         PM2.5   70               2     Moderate   \n",
       "4   40.8419   -73.8359         PM2.5   58               2     Moderate   \n",
       "\n",
       "                            Category  \n",
       "0  {'Number': 2, 'Name': 'Moderate'}  \n",
       "1  {'Number': 2, 'Name': 'Moderate'}  \n",
       "2  {'Number': 2, 'Name': 'Moderate'}  \n",
       "3  {'Number': 2, 'Name': 'Moderate'}  \n",
       "4  {'Number': 2, 'Name': 'Moderate'}  "
      ]
     },
     "metadata": {},
     "output_type": "display_data"
    }
   ],
   "source": [
    "display(pivot_bronx_cars.head())"
   ]
  },
  {
   "cell_type": "markdown",
   "metadata": {},
   "source": [
    "#### Brooklyn"
   ]
  },
  {
   "cell_type": "code",
   "execution_count": 41,
   "metadata": {},
   "outputs": [
    {
     "data": {
      "text/html": [
       "<div>\n",
       "<style scoped>\n",
       "    .dataframe tbody tr th:only-of-type {\n",
       "        vertical-align: middle;\n",
       "    }\n",
       "\n",
       "    .dataframe tbody tr th {\n",
       "        vertical-align: top;\n",
       "    }\n",
       "\n",
       "    .dataframe thead th {\n",
       "        text-align: right;\n",
       "    }\n",
       "</style>\n",
       "<table border=\"1\" class=\"dataframe\">\n",
       "  <thead>\n",
       "    <tr style=\"text-align: right;\">\n",
       "      <th>Fuel Type</th>\n",
       "      <th>COMP N/G</th>\n",
       "      <th>DIESEL</th>\n",
       "      <th>ELECTRIC</th>\n",
       "      <th>FLEX</th>\n",
       "      <th>GAS</th>\n",
       "      <th>NONE</th>\n",
       "      <th>OTHER</th>\n",
       "      <th>PROPANE</th>\n",
       "    </tr>\n",
       "    <tr>\n",
       "      <th>Reg Valid Date</th>\n",
       "      <th></th>\n",
       "      <th></th>\n",
       "      <th></th>\n",
       "      <th></th>\n",
       "      <th></th>\n",
       "      <th></th>\n",
       "      <th></th>\n",
       "      <th></th>\n",
       "    </tr>\n",
       "  </thead>\n",
       "  <tbody>\n",
       "    <tr>\n",
       "      <th>2022-04-02</th>\n",
       "      <td>0.0</td>\n",
       "      <td>0.0</td>\n",
       "      <td>0.0</td>\n",
       "      <td>0.0</td>\n",
       "      <td>15.0</td>\n",
       "      <td>0.0</td>\n",
       "      <td>0.0</td>\n",
       "      <td>0.0</td>\n",
       "    </tr>\n",
       "    <tr>\n",
       "      <th>2022-04-03</th>\n",
       "      <td>0.0</td>\n",
       "      <td>0.0</td>\n",
       "      <td>0.0</td>\n",
       "      <td>0.0</td>\n",
       "      <td>19.0</td>\n",
       "      <td>0.0</td>\n",
       "      <td>0.0</td>\n",
       "      <td>0.0</td>\n",
       "    </tr>\n",
       "    <tr>\n",
       "      <th>2022-04-04</th>\n",
       "      <td>0.0</td>\n",
       "      <td>0.0</td>\n",
       "      <td>0.0</td>\n",
       "      <td>0.0</td>\n",
       "      <td>37.0</td>\n",
       "      <td>0.0</td>\n",
       "      <td>0.0</td>\n",
       "      <td>0.0</td>\n",
       "    </tr>\n",
       "    <tr>\n",
       "      <th>2022-04-05</th>\n",
       "      <td>0.0</td>\n",
       "      <td>3.0</td>\n",
       "      <td>1.0</td>\n",
       "      <td>0.0</td>\n",
       "      <td>264.0</td>\n",
       "      <td>0.0</td>\n",
       "      <td>0.0</td>\n",
       "      <td>0.0</td>\n",
       "    </tr>\n",
       "    <tr>\n",
       "      <th>2022-04-06</th>\n",
       "      <td>0.0</td>\n",
       "      <td>1.0</td>\n",
       "      <td>1.0</td>\n",
       "      <td>0.0</td>\n",
       "      <td>184.0</td>\n",
       "      <td>0.0</td>\n",
       "      <td>0.0</td>\n",
       "      <td>0.0</td>\n",
       "    </tr>\n",
       "  </tbody>\n",
       "</table>\n",
       "</div>"
      ],
      "text/plain": [
       "Fuel Type       COMP N/G  DIESEL  ELECTRIC  FLEX    GAS  NONE  OTHER  PROPANE\n",
       "Reg Valid Date                                                               \n",
       "2022-04-02           0.0     0.0       0.0   0.0   15.0   0.0    0.0      0.0\n",
       "2022-04-03           0.0     0.0       0.0   0.0   19.0   0.0    0.0      0.0\n",
       "2022-04-04           0.0     0.0       0.0   0.0   37.0   0.0    0.0      0.0\n",
       "2022-04-05           0.0     3.0       1.0   0.0  264.0   0.0    0.0      0.0\n",
       "2022-04-06           0.0     1.0       1.0   0.0  184.0   0.0    0.0      0.0"
      ]
     },
     "metadata": {},
     "output_type": "display_data"
    }
   ],
   "source": [
    "display(pivot_brooklyn_cars.head())"
   ]
  },
  {
   "cell_type": "markdown",
   "metadata": {},
   "source": [
    "#### Queens"
   ]
  },
  {
   "cell_type": "code",
   "execution_count": 42,
   "metadata": {},
   "outputs": [
    {
     "data": {
      "text/html": [
       "<div>\n",
       "<style scoped>\n",
       "    .dataframe tbody tr th:only-of-type {\n",
       "        vertical-align: middle;\n",
       "    }\n",
       "\n",
       "    .dataframe tbody tr th {\n",
       "        vertical-align: top;\n",
       "    }\n",
       "\n",
       "    .dataframe thead th {\n",
       "        text-align: right;\n",
       "    }\n",
       "</style>\n",
       "<table border=\"1\" class=\"dataframe\">\n",
       "  <thead>\n",
       "    <tr style=\"text-align: right;\">\n",
       "      <th>Fuel Type</th>\n",
       "      <th>COMP N/G</th>\n",
       "      <th>DIESEL</th>\n",
       "      <th>ELECTRIC</th>\n",
       "      <th>FLEX</th>\n",
       "      <th>GAS</th>\n",
       "      <th>NONE</th>\n",
       "      <th>OTHER</th>\n",
       "      <th>PROPANE</th>\n",
       "    </tr>\n",
       "    <tr>\n",
       "      <th>Reg Valid Date</th>\n",
       "      <th></th>\n",
       "      <th></th>\n",
       "      <th></th>\n",
       "      <th></th>\n",
       "      <th></th>\n",
       "      <th></th>\n",
       "      <th></th>\n",
       "      <th></th>\n",
       "    </tr>\n",
       "  </thead>\n",
       "  <tbody>\n",
       "    <tr>\n",
       "      <th>2022-04-02</th>\n",
       "      <td>0.0</td>\n",
       "      <td>0.0</td>\n",
       "      <td>0.0</td>\n",
       "      <td>0.0</td>\n",
       "      <td>5.0</td>\n",
       "      <td>0.0</td>\n",
       "      <td>0.0</td>\n",
       "      <td>0.0</td>\n",
       "    </tr>\n",
       "    <tr>\n",
       "      <th>2022-04-03</th>\n",
       "      <td>0.0</td>\n",
       "      <td>0.0</td>\n",
       "      <td>0.0</td>\n",
       "      <td>0.0</td>\n",
       "      <td>8.0</td>\n",
       "      <td>0.0</td>\n",
       "      <td>0.0</td>\n",
       "      <td>0.0</td>\n",
       "    </tr>\n",
       "    <tr>\n",
       "      <th>2022-04-04</th>\n",
       "      <td>0.0</td>\n",
       "      <td>0.0</td>\n",
       "      <td>0.0</td>\n",
       "      <td>0.0</td>\n",
       "      <td>13.0</td>\n",
       "      <td>0.0</td>\n",
       "      <td>0.0</td>\n",
       "      <td>0.0</td>\n",
       "    </tr>\n",
       "    <tr>\n",
       "      <th>2022-04-05</th>\n",
       "      <td>0.0</td>\n",
       "      <td>0.0</td>\n",
       "      <td>0.0</td>\n",
       "      <td>0.0</td>\n",
       "      <td>81.0</td>\n",
       "      <td>0.0</td>\n",
       "      <td>0.0</td>\n",
       "      <td>0.0</td>\n",
       "    </tr>\n",
       "    <tr>\n",
       "      <th>2022-04-06</th>\n",
       "      <td>0.0</td>\n",
       "      <td>0.0</td>\n",
       "      <td>0.0</td>\n",
       "      <td>0.0</td>\n",
       "      <td>52.0</td>\n",
       "      <td>0.0</td>\n",
       "      <td>0.0</td>\n",
       "      <td>0.0</td>\n",
       "    </tr>\n",
       "  </tbody>\n",
       "</table>\n",
       "</div>"
      ],
      "text/plain": [
       "Fuel Type       COMP N/G  DIESEL  ELECTRIC  FLEX   GAS  NONE  OTHER  PROPANE\n",
       "Reg Valid Date                                                              \n",
       "2022-04-02           0.0     0.0       0.0   0.0   5.0   0.0    0.0      0.0\n",
       "2022-04-03           0.0     0.0       0.0   0.0   8.0   0.0    0.0      0.0\n",
       "2022-04-04           0.0     0.0       0.0   0.0  13.0   0.0    0.0      0.0\n",
       "2022-04-05           0.0     0.0       0.0   0.0  81.0   0.0    0.0      0.0\n",
       "2022-04-06           0.0     0.0       0.0   0.0  52.0   0.0    0.0      0.0"
      ]
     },
     "metadata": {},
     "output_type": "display_data"
    }
   ],
   "source": [
    "display(pivot_queens_cars.head())"
   ]
  },
  {
   "cell_type": "markdown",
   "metadata": {},
   "source": [
    "#### Manhattan"
   ]
  },
  {
   "cell_type": "code",
   "execution_count": 43,
   "metadata": {},
   "outputs": [
    {
     "data": {
      "text/html": [
       "<div>\n",
       "<style scoped>\n",
       "    .dataframe tbody tr th:only-of-type {\n",
       "        vertical-align: middle;\n",
       "    }\n",
       "\n",
       "    .dataframe tbody tr th {\n",
       "        vertical-align: top;\n",
       "    }\n",
       "\n",
       "    .dataframe thead th {\n",
       "        text-align: right;\n",
       "    }\n",
       "</style>\n",
       "<table border=\"1\" class=\"dataframe\">\n",
       "  <thead>\n",
       "    <tr style=\"text-align: right;\">\n",
       "      <th>Fuel Type</th>\n",
       "      <th>COMP N/G</th>\n",
       "      <th>DIESEL</th>\n",
       "      <th>ELECTRIC</th>\n",
       "      <th>FLEX</th>\n",
       "      <th>GAS</th>\n",
       "      <th>NONE</th>\n",
       "      <th>OTHER</th>\n",
       "      <th>PROPANE</th>\n",
       "    </tr>\n",
       "    <tr>\n",
       "      <th>Reg Valid Date</th>\n",
       "      <th></th>\n",
       "      <th></th>\n",
       "      <th></th>\n",
       "      <th></th>\n",
       "      <th></th>\n",
       "      <th></th>\n",
       "      <th></th>\n",
       "      <th></th>\n",
       "    </tr>\n",
       "  </thead>\n",
       "  <tbody>\n",
       "    <tr>\n",
       "      <th>2022-04-02</th>\n",
       "      <td>0.0</td>\n",
       "      <td>0.0</td>\n",
       "      <td>0.0</td>\n",
       "      <td>0.0</td>\n",
       "      <td>36.0</td>\n",
       "      <td>0.0</td>\n",
       "      <td>0.0</td>\n",
       "      <td>0.0</td>\n",
       "    </tr>\n",
       "    <tr>\n",
       "      <th>2022-04-03</th>\n",
       "      <td>0.0</td>\n",
       "      <td>0.0</td>\n",
       "      <td>0.0</td>\n",
       "      <td>0.0</td>\n",
       "      <td>47.0</td>\n",
       "      <td>0.0</td>\n",
       "      <td>0.0</td>\n",
       "      <td>0.0</td>\n",
       "    </tr>\n",
       "    <tr>\n",
       "      <th>2022-04-04</th>\n",
       "      <td>0.0</td>\n",
       "      <td>0.0</td>\n",
       "      <td>0.0</td>\n",
       "      <td>0.0</td>\n",
       "      <td>92.0</td>\n",
       "      <td>0.0</td>\n",
       "      <td>0.0</td>\n",
       "      <td>0.0</td>\n",
       "    </tr>\n",
       "    <tr>\n",
       "      <th>2022-04-05</th>\n",
       "      <td>0.0</td>\n",
       "      <td>8.0</td>\n",
       "      <td>6.0</td>\n",
       "      <td>0.0</td>\n",
       "      <td>685.0</td>\n",
       "      <td>0.0</td>\n",
       "      <td>0.0</td>\n",
       "      <td>0.0</td>\n",
       "    </tr>\n",
       "    <tr>\n",
       "      <th>2022-04-06</th>\n",
       "      <td>0.0</td>\n",
       "      <td>1.0</td>\n",
       "      <td>1.0</td>\n",
       "      <td>0.0</td>\n",
       "      <td>403.0</td>\n",
       "      <td>0.0</td>\n",
       "      <td>0.0</td>\n",
       "      <td>0.0</td>\n",
       "    </tr>\n",
       "  </tbody>\n",
       "</table>\n",
       "</div>"
      ],
      "text/plain": [
       "Fuel Type       COMP N/G  DIESEL  ELECTRIC  FLEX    GAS  NONE  OTHER  PROPANE\n",
       "Reg Valid Date                                                               \n",
       "2022-04-02           0.0     0.0       0.0   0.0   36.0   0.0    0.0      0.0\n",
       "2022-04-03           0.0     0.0       0.0   0.0   47.0   0.0    0.0      0.0\n",
       "2022-04-04           0.0     0.0       0.0   0.0   92.0   0.0    0.0      0.0\n",
       "2022-04-05           0.0     8.0       6.0   0.0  685.0   0.0    0.0      0.0\n",
       "2022-04-06           0.0     1.0       1.0   0.0  403.0   0.0    0.0      0.0"
      ]
     },
     "metadata": {},
     "output_type": "display_data"
    }
   ],
   "source": [
    "display(pivot_manhattan_cars.head())"
   ]
  },
  {
   "cell_type": "markdown",
   "metadata": {},
   "source": [
    "#### Staten Island"
   ]
  },
  {
   "cell_type": "code",
   "execution_count": 59,
   "metadata": {},
   "outputs": [
    {
     "data": {
      "text/html": [
       "<div>\n",
       "<style scoped>\n",
       "    .dataframe tbody tr th:only-of-type {\n",
       "        vertical-align: middle;\n",
       "    }\n",
       "\n",
       "    .dataframe tbody tr th {\n",
       "        vertical-align: top;\n",
       "    }\n",
       "\n",
       "    .dataframe thead th {\n",
       "        text-align: right;\n",
       "    }\n",
       "</style>\n",
       "<table border=\"1\" class=\"dataframe\">\n",
       "  <thead>\n",
       "    <tr style=\"text-align: right;\">\n",
       "      <th>Fuel Type</th>\n",
       "      <th>COMP N/G</th>\n",
       "      <th>DIESEL</th>\n",
       "      <th>ELECTRIC</th>\n",
       "      <th>FLEX</th>\n",
       "      <th>GAS</th>\n",
       "      <th>NONE</th>\n",
       "      <th>OTHER</th>\n",
       "    </tr>\n",
       "    <tr>\n",
       "      <th>Reg Valid Date</th>\n",
       "      <th></th>\n",
       "      <th></th>\n",
       "      <th></th>\n",
       "      <th></th>\n",
       "      <th></th>\n",
       "      <th></th>\n",
       "      <th></th>\n",
       "    </tr>\n",
       "  </thead>\n",
       "  <tbody>\n",
       "    <tr>\n",
       "      <th>2022-04-02</th>\n",
       "      <td>0.0</td>\n",
       "      <td>0.0</td>\n",
       "      <td>0.0</td>\n",
       "      <td>0.0</td>\n",
       "      <td>6.0</td>\n",
       "      <td>0.0</td>\n",
       "      <td>0.0</td>\n",
       "    </tr>\n",
       "    <tr>\n",
       "      <th>2022-04-03</th>\n",
       "      <td>0.0</td>\n",
       "      <td>0.0</td>\n",
       "      <td>0.0</td>\n",
       "      <td>0.0</td>\n",
       "      <td>11.0</td>\n",
       "      <td>0.0</td>\n",
       "      <td>0.0</td>\n",
       "    </tr>\n",
       "    <tr>\n",
       "      <th>2022-04-04</th>\n",
       "      <td>0.0</td>\n",
       "      <td>0.0</td>\n",
       "      <td>0.0</td>\n",
       "      <td>0.0</td>\n",
       "      <td>17.0</td>\n",
       "      <td>0.0</td>\n",
       "      <td>0.0</td>\n",
       "    </tr>\n",
       "    <tr>\n",
       "      <th>2022-04-05</th>\n",
       "      <td>0.0</td>\n",
       "      <td>2.0</td>\n",
       "      <td>0.0</td>\n",
       "      <td>0.0</td>\n",
       "      <td>125.0</td>\n",
       "      <td>0.0</td>\n",
       "      <td>0.0</td>\n",
       "    </tr>\n",
       "    <tr>\n",
       "      <th>2022-04-06</th>\n",
       "      <td>0.0</td>\n",
       "      <td>0.0</td>\n",
       "      <td>0.0</td>\n",
       "      <td>0.0</td>\n",
       "      <td>80.0</td>\n",
       "      <td>0.0</td>\n",
       "      <td>0.0</td>\n",
       "    </tr>\n",
       "  </tbody>\n",
       "</table>\n",
       "</div>"
      ],
      "text/plain": [
       "Fuel Type       COMP N/G  DIESEL  ELECTRIC  FLEX    GAS  NONE  OTHER\n",
       "Reg Valid Date                                                      \n",
       "2022-04-02           0.0     0.0       0.0   0.0    6.0   0.0    0.0\n",
       "2022-04-03           0.0     0.0       0.0   0.0   11.0   0.0    0.0\n",
       "2022-04-04           0.0     0.0       0.0   0.0   17.0   0.0    0.0\n",
       "2022-04-05           0.0     2.0       0.0   0.0  125.0   0.0    0.0\n",
       "2022-04-06           0.0     0.0       0.0   0.0   80.0   0.0    0.0"
      ]
     },
     "metadata": {},
     "output_type": "display_data"
    }
   ],
   "source": [
    "display(pivot_staten_island_cars.head())"
   ]
  },
  {
   "cell_type": "code",
   "execution_count": 70,
   "metadata": {},
   "outputs": [
    {
     "data": {
      "image/png": "[encoded data removed]",
      "text/plain": [
       "<Figure size 1000x500 with 1 Axes>"
      ]
     },
     "metadata": {},
     "output_type": "display_data"
    }
   ],
   "source": [
    "cars = pd.DataFrame({'Bronx':pivot_bronx_cars.sum(), 'Brooklyn':pivot_brooklyn_cars.sum(), \n",
    "'Queens':pivot_queens_cars.sum(), 'Manhattan':pivot_manhattan_cars.sum(), \n",
    "'Staten Island':pivot_staten_island_cars.sum()\n",
    "                    })\n",
    "\n",
    "y = [cars.loc['COMP N/G'],cars.loc['FLEX'],cars.loc['ELECTRIC'],cars.loc['DIESEL'],cars.loc['GAS']]\n",
    "\n",
    "fig, ax = plt.subplots(figsize=(10, 5))\n",
    "ax.bar(cars.columns,y[0],label='COMP N/G')\n",
    "\n",
    "ax.bar(cars.columns,cars.loc['FLEX'],\n",
    "       bottom =y[0], \n",
    "       label='FLEX')\n",
    "\n",
    "ax.bar(cars.columns,cars.loc['ELECTRIC'],\n",
    "       bottom =y[0]+y[1],\n",
    "       label='ELECTRIC')\n",
    "\n",
    "ax.bar(cars.columns,cars.loc['DIESEL'],\n",
    "       bottom =y[0]+y[1]+y[2],\n",
    "       label='DIESEL')\n",
    "\n",
    "ax.bar(cars.columns,cars.loc['GAS'],\n",
    "       bottom =y[0]+y[1]+y[2]+y[3],\n",
    "       label='GAS')\n",
    "\n",
    "plt.legend()\n",
    "plt.xlabel('Fuel Type')\n",
    "plt.ylabel('Count/Million')\n",
    "plt.title('Vehicle Registrations 2022-2024')\n",
    "plt.show()"
   ]
  },
  {
   "cell_type": "markdown",
   "metadata": {},
   "source": [
    "### Fuel type by boro visualization"
   ]
  },
  {
   "cell_type": "code",
   "execution_count": 45,
   "metadata": {},
   "outputs": [
    {
     "data": {
      "image/png": "[encoded data removed]",
      "text/plain": [
       "<Figure size 1000x500 with 1 Axes>"
      ]
     },
     "metadata": {},
     "output_type": "display_data"
    }
   ],
   "source": [
    "# display all cities by FuelType as a signle bar chart\n",
    "fuel_types = bronx_cars['Fuel Type'].value_counts().index\n",
    "fuel_types = fuel_types.append(brooklyn_cars['Fuel Type'].value_counts().index)\n",
    "fuel_types = fuel_types.append(queens_cars['Fuel Type'].value_counts().index)\n",
    "fuel_types = fuel_types.append(manhattan_cars['Fuel Type'].value_counts().index)\n",
    "fuel_types = fuel_types.append(staten_island_cars['Fuel Type'].value_counts().index)\n",
    "\n",
    "fuel_types = fuel_types.unique()\n",
    "\n",
    "fig, ax = plt.subplots(figsize=(10, 5))\n",
    "for fuel in fuel_types:\n",
    "    cars = pd.DataFrame({'City': ['Bronx', 'Brooklyn', 'Queens', 'Manhattan', 'Staten Island'], 'Count': [bronx_cars[bronx_cars['Fuel Type'] == fuel].shape[0], brooklyn_cars[brooklyn_cars['Fuel Type'] == fuel].shape[0], queens_cars[queens_cars['Fuel Type'] == fuel].shape[0], manhattan_cars[manhattan_cars['Fuel Type'] == fuel].shape[0], staten_island_cars[staten_island_cars['Fuel Type'] == fuel].shape[0]]})\n",
    "    ax.bar(cars['City'], cars['Count'], label=fuel)\n",
    "\n",
    "plt.legend()\n",
    "plt.xlabel('Fuel Type')\n",
    "plt.ylabel('Count/Million')\n",
    "plt.title('Vehicle Registrations 2022-2024')\n",
    "plt.show()\n"
   ]
  },
  {
   "cell_type": "code",
   "execution_count": 13,
   "metadata": {},
   "outputs": [],
   "source": [
    "#bronx_cars = bronx_cars.set_index('Reg Valid Date')\n",
    "#brooklyn_cars = brooklyn_cars.set_index('Reg Valid Date')\n",
    "#queens_cars = queens_cars.set_index('Reg Valid Date')\n",
    "#manhattan_cars = manhattan_cars.set_index('Reg Valid Date')\n",
    "#staten_island_cars = staten_island_cars.set_index('Reg Valid Date')"
   ]
  },
  {
   "cell_type": "code",
   "execution_count": 45,
   "metadata": {},
   "outputs": [],
   "source": [
    "\n",
    "aq_df = pd.read_csv(os.path.join(cwd, output_dir, 'air_quality.csv'))\n",
    "ev_stations_df = pd.read_csv(os.path.join(cwd, data_dir, 'Electric_Vehicle_Charging_Stations.csv'))\n",
    "walkability_df = pd.read_csv(os.path.join(cwd, data_dir, 'EPA_SmartLocationDatabase_V3_Jan_2021_Final.csv'))\n",
    "# income_df = pd.read_csv(os.path.join(cwd, data_dir, 'Income.csv'))\n",
    "vehicle_df = pd.read_csv(os.path.join(cwd, data_dir, 'Vehicle__Snowmobile__and_Boat_Registrations.csv'))\n"
   ]
  },
  {
   "cell_type": "code",
   "execution_count": 14,
   "metadata": {},
   "outputs": [],
   "source": [
    "sample_bronx_cars = bronx_cars.resample('W').count()\n",
    "sample_brooklyn_cars = brooklyn_cars.resample('W').count()\n",
    "sample_queens_cars = queens_cars.resample('W').count()\n",
    "sample_manhattan_cars = manhattan_cars.resample('W').count()\n",
    "sample_staten_island_cars = staten_island_cars.resample('W').count()"
   ]
  },
  {
   "cell_type": "code",
   "execution_count": 15,
   "metadata": {},
   "outputs": [
    {
     "data": {
      "image/png": "[encoded data removed]",
      "text/plain": [
       "<Figure size 1000x500 with 1 Axes>"
      ]
     },
     "metadata": {},
     "output_type": "display_data"
    },
    {
     "data": {
      "text/plain": [
       "City\n",
       "BROOKLYN          536605\n",
       "ROCHESTER         310424\n",
       "BRONX             283219\n",
       "STATEN ISLAND     282800\n",
       "NEW YORK          226600\n",
       "                   ...  \n",
       "KEW GARDN HLL          1\n",
       "KEW GARDNS HL          1\n",
       "KEW GARDNS HLL         1\n",
       "KEW GARENS             1\n",
       "ZONE PARK              1\n",
       "Name: count, Length: 23894, dtype: int64"
      ]
     },
     "metadata": {},
     "output_type": "display_data"
    }
   ],
   "source": [
    "# show vehicle registration by borough over time\n",
    "fig, ax = plt.subplots(figsize=(10, 5))\n",
    "\n",
    "sample_bronx_cars['Fuel Type'].cumsum().plot(ax=ax, label='Bronx')\n",
    "sample_brooklyn_cars['Fuel Type'].cumsum().plot(ax=ax, label='Brooklyn')\n",
    "sample_queens_cars['Fuel Type'].cumsum().plot(ax=ax, label='Queens')\n",
    "sample_manhattan_cars['Fuel Type'].cumsum().plot(ax=ax, label='Manhattan')\n",
    "sample_staten_island_cars['Fuel Type'].cumsum().plot(ax=ax, label='Staten Island')\n",
    "\n",
    "plt.legend()\n",
    "plt.xlabel('Date')\n",
    "plt.ylabel('Count')\n",
    "plt.title('Vehicle Registrations 2022-2024')\n",
    "plt.figure(figsize=(20, 15))\n",
    "plt.show()\n"
   ]
  },
  {
   "cell_type": "code",
   "execution_count": 4,
   "metadata": {},
   "outputs": [],
   "source": [
    "# get data for all five boroughs\n",
    "manhattan = ['MANHATTAN', 'NEW YORK', 'BROOKLYN', 'QUEENS', 'BRONX', 'STATEN ISLAND']\n",
    "brooklyn = ['BROOKLYN', 'BRKLYN']\n",
    "queens = [\n",
    "'NEIGHBORHOODS','ALLEY POND PARK','ARVERNE','ASTORIA','ASTORIA HEIGHTS',\n",
    "'AUBURNDALE','BAY TERRACE','BAYSIDE','BAYSIDE HILLS','BAYSWATER','BEECHHURST',\n",
    "'BELLAIRE','BELLE HARBOR','BELLEROSE','BELLEROSE MANOR','BREEZY POINT',\n",
    "'BRIARWOOD','BROAD CHANNEL','BROADWAY-FLUSHING','BROOKVILLE','BROOKVILLE PARK',\n",
    "'CAMBRIA HEIGHTS','COLLEGE POINT','CORONA','CUNNINGHAM PARK','DITMARS-STEINWAY',\n",
    "'DOUGLAS MANOR','DOUGLASTON','DOWNTOWN FLUSHING','EAST ELMHURST','EDGEMERE',\n",
    "'ELMHURST','FAR ROCKAWAY','FLORAL PARK','FLUSHING HEIGHTS',\n",
    "'FLUSHING MEADOWS CORONA PARK','FOREST HILLS','FOREST HILLS GARDENS',\n",
    "'FOREST PARK','FORT TILDEN-JACOB RIIS PARKS','FRESH MEADOWS','GLEN OAKS',\n",
    "'GLENDALE','HAMILTON BEACH''HILLCREST','THE HOLE','HOLLIS','HOLLIS HILLS',\n",
    "'HOLLISWOOD','HOWARD BEACH','HUNTER \\'S POINT','JACKSON HEIGHTS','JAMAICA',\n",
    "'JAMAICA CENTER''JAMAICA ESTATES','JAMAICA HILLS','KEW GARDENS',\n",
    "'KEW GARDENS HILLS','KISSENA','KISSENA PARK','LAURELTON''LINDEN HILL',\n",
    "'LINDENWOOD','LITTLE NECK','LOCUST MANOR','LONG ISLAND CITY','MALBA','MASPETH',\n",
    "'MEADOWMERE','MIDDLE VILLAGE','MURRAY HILL','NEPONSIT','NEW HYDE PARK',\n",
    "'NORTH CORONA','OAKLAND GARDENS','OLD HOWARD BEACH','OZONE PARK','POMONOK',\n",
    "'QUEENS VILLAGE','QUEENSBORO HILL','REGO PARK','RICHMOND HILL',\n",
    "'RICHMOND HILL EAST','RIDGEWOOD''ROCHDALE','ROCKAWAY BEACH','ROCKAWAY PARK',\n",
    "'ROSEDALE','ROXBURY','SOUTH JAMAICA','SOUTH OZONE PARK','SOUTH RICHMOND HILL',\n",
    "'SPRINGFIELD GARDENS','ST. ALBANS','SUNNYSIDE','UTOPIA','WHITESTONE',\n",
    "'WILLETS POINT','WOODHAVEN','WOODSIDE'\n",
    "]\n",
    "bronx = ['BRONX']\n",
    "staten_island = ['STATEN ISLAND']\n",
    "borough_data = manhattan + brooklyn + queens + bronx + staten_island\n",
    "\n"
   ]
  },
  {
   "cell_type": "code",
   "execution_count": 5,
   "metadata": {},
   "outputs": [],
   "source": [
    "def getCarData(city_names):\n",
    "    cars = pd.DataFrame()\n",
    "    for city in city_names:\n",
    "        cars = pd.concat([cars, ny_vehcile_regestrations_df.loc[ny_vehcile_regestrations_df['City'] == city]])\n",
    "    cars['VIN'] = cars['VIN'].fillna(value='Unknown')\n",
    "\n",
    "\n",
    "    # groups by VIN and gets the min and max dates for registration\n",
    "    cars = cars.groupby('VIN').agg({'Reg Valid Date': 'min', 'Reg Expiration Date': 'max', 'Fuel Type': 'first'})\n",
    "\n",
    "    # # filter for cars that were registered between 2018 and 2021\n",
    "    cars = cars.reset_index()\n",
    "\n",
    "    # # filter for cars that were registered between 2022 and 2024\n",
    "    cars = cars[(cars['Reg Valid Date'] > '2022-04') & (cars['Reg Valid Date'] < '2024-04')]\n",
    "\n",
    "    return cars"
   ]
  },
  {
   "cell_type": "code",
   "execution_count": 6,
   "metadata": {},
   "outputs": [],
   "source": [
    "bronx_cars = getCarData(bronx)\n",
    "brooklyn_cars = getCarData(brooklyn)\n",
    "queens_cars = getCarData(queens)\n",
    "manhattan_cars = getCarData(manhattan)\n",
    "staten_island_cars = getCarData(staten_island)\n"
   ]
  },
  {
   "cell_type": "code",
   "execution_count": 7,
   "metadata": {},
   "outputs": [
    {
     "data": {
      "text/html": [
       "<div>\n",
       "<style scoped>\n",
       "    .dataframe tbody tr th:only-of-type {\n",
       "        vertical-align: middle;\n",
       "    }\n",
       "\n",
       "    .dataframe tbody tr th {\n",
       "        vertical-align: top;\n",
       "    }\n",
       "\n",
       "    .dataframe thead th {\n",
       "        text-align: right;\n",
       "    }\n",
       "</style>\n",
       "<table border=\"1\" class=\"dataframe\">\n",
       "  <thead>\n",
       "    <tr style=\"text-align: right;\">\n",
       "      <th></th>\n",
       "      <th>VIN</th>\n",
       "      <th>Reg Expiration Date</th>\n",
       "      <th>Fuel Type</th>\n",
       "    </tr>\n",
       "    <tr>\n",
       "      <th>Reg Valid Date</th>\n",
       "      <th></th>\n",
       "      <th></th>\n",
       "      <th></th>\n",
       "    </tr>\n",
       "  </thead>\n",
       "  <tbody>\n",
       "    <tr>\n",
       "      <th>2024-03-17</th>\n",
       "      <td>00031AA4S000266</td>\n",
       "      <td>2025-03-29</td>\n",
       "      <td>GAS</td>\n",
       "    </tr>\n",
       "    <tr>\n",
       "      <th>2023-11-08</th>\n",
       "      <td>0160005909</td>\n",
       "      <td>2024-12-31</td>\n",
       "      <td>DIESEL</td>\n",
       "    </tr>\n",
       "    <tr>\n",
       "      <th>2024-02-01</th>\n",
       "      <td>0407500831</td>\n",
       "      <td>2025-01-31</td>\n",
       "      <td>GAS</td>\n",
       "    </tr>\n",
       "    <tr>\n",
       "      <th>2023-11-21</th>\n",
       "      <td>064250</td>\n",
       "      <td>2024-12-31</td>\n",
       "      <td>DIESEL</td>\n",
       "    </tr>\n",
       "    <tr>\n",
       "      <th>2023-11-21</th>\n",
       "      <td>071364</td>\n",
       "      <td>2024-12-31</td>\n",
       "      <td>DIESEL</td>\n",
       "    </tr>\n",
       "  </tbody>\n",
       "</table>\n",
       "</div>"
      ],
      "text/plain": [
       "                            VIN Reg Expiration Date Fuel Type\n",
       "Reg Valid Date                                               \n",
       "2024-03-17      00031AA4S000266          2025-03-29       GAS\n",
       "2023-11-08           0160005909          2024-12-31    DIESEL\n",
       "2024-02-01           0407500831          2025-01-31       GAS\n",
       "2023-11-21               064250          2024-12-31    DIESEL\n",
       "2023-11-21               071364          2024-12-31    DIESEL"
      ]
     },
     "metadata": {},
     "output_type": "display_data"
    },
    {
     "data": {
      "text/html": [
       "<div>\n",
       "<style scoped>\n",
       "    .dataframe tbody tr th:only-of-type {\n",
       "        vertical-align: middle;\n",
       "    }\n",
       "\n",
       "    .dataframe tbody tr th {\n",
       "        vertical-align: top;\n",
       "    }\n",
       "\n",
       "    .dataframe thead th {\n",
       "        text-align: right;\n",
       "    }\n",
       "</style>\n",
       "<table border=\"1\" class=\"dataframe\">\n",
       "  <thead>\n",
       "    <tr style=\"text-align: right;\">\n",
       "      <th></th>\n",
       "      <th>Reg Valid Date</th>\n",
       "      <th>VIN</th>\n",
       "      <th>Reg Expiration Date</th>\n",
       "      <th>Fuel Type</th>\n",
       "    </tr>\n",
       "  </thead>\n",
       "  <tbody>\n",
       "    <tr>\n",
       "      <th>0</th>\n",
       "      <td>2024-03-17</td>\n",
       "      <td>00031AA4S000266</td>\n",
       "      <td>2025-03-29</td>\n",
       "      <td>GAS</td>\n",
       "    </tr>\n",
       "    <tr>\n",
       "      <th>1</th>\n",
       "      <td>2024-02-01</td>\n",
       "      <td>0407500831</td>\n",
       "      <td>2025-01-31</td>\n",
       "      <td>GAS</td>\n",
       "    </tr>\n",
       "    <tr>\n",
       "      <th>2</th>\n",
       "      <td>2023-10-17</td>\n",
       "      <td>080671200211</td>\n",
       "      <td>2024-08-07</td>\n",
       "      <td>GAS</td>\n",
       "    </tr>\n",
       "    <tr>\n",
       "      <th>3</th>\n",
       "      <td>2022-05-26</td>\n",
       "      <td>0T02M165100</td>\n",
       "      <td>2024-05-21</td>\n",
       "      <td>GAS</td>\n",
       "    </tr>\n",
       "    <tr>\n",
       "      <th>4</th>\n",
       "      <td>2023-09-01</td>\n",
       "      <td>0X91T317776</td>\n",
       "      <td>2025-08-04</td>\n",
       "      <td>GAS</td>\n",
       "    </tr>\n",
       "  </tbody>\n",
       "</table>\n",
       "</div>"
      ],
      "text/plain": [
       "Fuel Type\n",
       "GAS         249197\n",
       "DIESEL        5391\n",
       "ELECTRIC      2960\n",
       "FLEX           262\n",
       "COMP N/G       199\n",
       "NONE            97\n",
       "OTHER           36\n",
       "PROPANE          2\n",
       "Name: count, dtype: int64"
      ]
     },
     "metadata": {},
     "output_type": "display_data"
    },
    {
     "data": {
      "text/plain": [
       "Fuel Type\n",
       "GAS         475838\n",
       "DIESEL       14057\n",
       "ELECTRIC      8628\n",
       "FLEX           477\n",
       "OTHER          347\n",
       "NONE           228\n",
       "COMP N/G        37\n",
       "PROPANE         22\n",
       "Name: count, dtype: int64"
      ]
     },
     "metadata": {},
     "output_type": "display_data"
    },
    {
     "data": {
      "text/plain": [
       "Fuel Type\n",
       "GAS         576811\n",
       "DIESEL       15564\n",
       "ELECTRIC     11269\n",
       "FLEX           888\n",
       "NONE           281\n",
       "COMP N/G       143\n",
       "OTHER          114\n",
       "PROPANE          7\n",
       "Name: count, dtype: int64"
      ]
     },
     "metadata": {},
     "output_type": "display_data"
    },
    {
     "data": {
      "text/plain": [
       "Fuel Type\n",
       "GAS         1182872\n",
       "DIESEL        27218\n",
       "ELECTRIC      20126\n",
       "FLEX           1133\n",
       "NONE            509\n",
       "OTHER           499\n",
       "COMP N/G        245\n",
       "PROPANE          27\n",
       "Name: count, dtype: int64"
      ]
     },
     "metadata": {},
     "output_type": "display_data"
    },
    {
     "data": {
      "text/plain": [
       "Fuel Type\n",
       "GAS         257332\n",
       "DIESEL        4710\n",
       "ELECTRIC      3530\n",
       "FLEX           179\n",
       "OTHER           85\n",
       "NONE            49\n",
       "COMP N/G         4\n",
       "Name: count, dtype: int64"
      ]
     },
     "metadata": {},
     "output_type": "display_data"
    }
   ],
   "source": [
    "display(bronx_cars['Fuel Type'].value_counts())\n",
    "display(brooklyn_cars['Fuel Type'].value_counts())\n",
    "display(queens_cars['Fuel Type'].value_counts())\n",
    "display(manhattan_cars['Fuel Type'].value_counts())\n",
    "display(staten_island_cars['Fuel Type'].value_counts())"
   ]
  },
  {
   "cell_type": "code",
   "execution_count": 10,
   "metadata": {},
   "outputs": [
    {
     "data": {
      "image/png": "[encoded data removed]",
      "text/plain": [
       "<Figure size 1000x500 with 1 Axes>"
      ]
     },
     "metadata": {},
     "output_type": "display_data"
    }
   ],
   "source": [
    "# display all cities by FuelType as a signle bar chart\n",
    "fuel_types = bronx_cars['Fuel Type'].value_counts().index\n",
    "fuel_types = fuel_types.append(brooklyn_cars['Fuel Type'].value_counts().index)\n",
    "fuel_types = fuel_types.append(queens_cars['Fuel Type'].value_counts().index)\n",
    "fuel_types = fuel_types.append(manhattan_cars['Fuel Type'].value_counts().index)\n",
    "fuel_types = fuel_types.append(staten_island_cars['Fuel Type'].value_counts().index)\n",
    "\n",
    "fuel_types = fuel_types.unique()\n",
    "\n",
    "fig, ax = plt.subplots(figsize=(10, 5))\n",
    "for fuel in fuel_types:\n",
    "    cars = pd.DataFrame({'City': ['Bronx', 'Brooklyn', 'Queens', 'Manhattan', 'Staten Island'], 'Count': [bronx_cars[bronx_cars['Fuel Type'] == fuel].shape[0], brooklyn_cars[brooklyn_cars['Fuel Type'] == fuel].shape[0], queens_cars[queens_cars['Fuel Type'] == fuel].shape[0], manhattan_cars[manhattan_cars['Fuel Type'] == fuel].shape[0], staten_island_cars[staten_island_cars['Fuel Type'] == fuel].shape[0]]})\n",
    "    ax.bar(cars['City'], cars['Count'], label=fuel)\n",
    "\n",
    "plt.legend()\n",
    "plt.xlabel('Fuel Type')\n",
    "plt.ylabel('Count/Million')\n",
    "plt.title('Vehicle Registrations 2022-2024')\n",
    "plt.show()\n"
   ]
  },
  {
   "cell_type": "code",
   "execution_count": null,
   "metadata": {},
   "outputs": [],
   "source": [
    "nyc_gas = pd.concat([bronx_cars, brooklyn_cars, queens_cars, manhattan_cars, staten_island_cars])\n",
    "display(nyc_gas.head())\n",
    "\n",
    "nyc_gas = nyc_gas[nyc_gas['Fuel Type'] == 'GAS']\n",
    "nyc_gas = nyc_gas.reset_index(drop=False)\n",
    "\n",
    "# nyc_gas['Reg Valid Date'] = nyc_gas['Reg Valid Date'].dt.to_period('M')\n",
    "\n",
    "nyc_gas.head()"
   ]
},
{
   "cell_type": "code",
   "execution_count": 25,
   "metadata": {},
   "outputs": [
    {
     "data": {
      "image/png": "[encoded data removed]",
      "text/plain": [
       "<Figure size 1000x500 with 1 Axes>"
      ]
     },
     "metadata": {},
     "output_type": "display_data"
    },
    {
     "data": {
      "text/plain": [
       "<Figure size 2000x1500 with 0 Axes>"
      ]
     },
     "metadata": {},
     "output_type": "display_data"
    }
   ],
   "source": [
    "# show vehicle registration by borough over time\n",
    "fig, ax = plt.subplots(figsize=(10, 5))\n",
    "\n",
    "bronx_cars = bronx_cars.set_index('Reg Valid Date')\n",
    "brooklyn_cars = brooklyn_cars.set_index('Reg Valid Date')\n",
    "queens_cars = queens_cars.set_index('Reg Valid Date')\n",
    "manhattan_cars = manhattan_cars.set_index('Reg Valid Date')\n",
    "staten_island_cars = staten_island_cars.set_index('Reg Valid Date')\n",
    "\n",
    "sample_bronx_cars = bronx_cars.resample('W').count()\n",
    "sample_brooklyn_cars = brooklyn_cars.resample('W').count()\n",
    "sample_queens_cars = queens_cars.resample('W').count()\n",
    "sample_manhattan_cars = manhattan_cars.resample('W').count()\n",
    "sample_staten_island_cars = staten_island_cars.resample('W').count()\n",
    "\n",
    "sample_bronx_cars['Fuel Type'].cumsum().plot(ax=ax, label='Bronx')\n",
    "sample_brooklyn_cars['Fuel Type'].cumsum().plot(ax=ax, label='Brooklyn')\n",
    "sample_queens_cars['Fuel Type'].cumsum().plot(ax=ax, label='Queens')\n",
    "sample_manhattan_cars['Fuel Type'].cumsum().plot(ax=ax, label='Manhattan')\n",
    "sample_staten_island_cars['Fuel Type'].cumsum().plot(ax=ax, label='Staten Island')\n",
    "\n",
    "plt.legend()\n",
    "plt.xlabel('Date')\n",
    "plt.ylabel('Count')\n",
    "plt.title('Vehicle Registrations 2022-2024')\n",
    "plt.figure(figsize=(20, 15))\n",
    "plt.show()\n"
   ]
  },
  {
   "cell_type": "code",
   "execution_count": 59,
   "metadata": {},
   "outputs": [],
   "source": [
    "nyc_aq = aq_df[aq_df['ReportingArea'] == 'New York City Region']"
   ]
  },
  {
   "cell_type": "code",
   "execution_count": 131,
   "metadata": {},
   "outputs": [
    {
     "data": {
      "image/png": "[encoded data removed]",
      "text/plain": [
       "<Figure size 1000x500 with 2 Axes>"
      ]
     },
     "metadata": {},
     "output_type": "display_data"
    }
   ],
   "source": [
    "nyc_cars = pd.concat([bronx_cars, brooklyn_cars, queens_cars, manhattan_cars, staten_island_cars])\n",
    "nyc_gas = nyc_cars[nyc_cars['Fuel Type'] == 'GAS']\n",
    "nyc_gas = nyc_gas.reset_index()\n",
    "nyc_gas = nyc_gas.set_index('Reg Valid Date')\n",
    "nyc_gas = nyc_gas.resample('M').count()\n",
    "nyc_electric = nyc_cars[nyc_cars['Fuel Type'] == 'ELECTRIC']\n",
    "nyc_electric = nyc_electric.reset_index()\n",
    "nyc_electric = nyc_electric.set_index('Reg Valid Date')\n",
    "nyc_electric = nyc_electric.resample('M').count()\n",
    "\n",
    "nyc_aq = aq_df[aq_df['ReportingArea'] == 'New York City Region']\n",
    "nyc_aq = nyc_aq.reset_index()\n",
    "nyc_aq['DateObserved'] = pd.to_datetime(nyc_aq['DateObserved'])\n",
    "nyc_aq = nyc_aq.set_index('DateObserved')\n",
    "nyc_aq = nyc_aq.resample('M')[['AQI']].mean()\n",
    "\n",
    "# plot electric vs gas vehicles over time along air quality overtime\n",
    "fig, (ax1, ax2) = plt.subplots(2, sharex=True, figsize=(10, 5))\n",
    "fig.suptitle('Vehicle Registrations and Air Quality 2022-2024')\n",
    "\n",
    "ax1.set_xlim(min(nyc_electric.index), max(nyc_electric.index))\n",
    "\n",
    "ax1.plot(nyc_aq['AQI'], label='AQI')\n",
    "ax1.set_ylabel('PM2.5')\n",
    "ax2.plot(nyc_gas['Fuel Type'].cumsum(), label='Gas Vehicles')\n",
    "ax2.plot(nyc_electric['Fuel Type'].cumsum(), label='Electric Vehicles')\n",
    "ax2.legend()\n",
    "ax2.set_ylabel('Registrations/Million')\n",
    "\n",
    "plt.show()\n"
   ]
  },
  {
   "cell_type": "code",
   "execution_count": 80,
   "metadata": {},
   "outputs": [],
   "source": [
    "albanys = ['ALBANY', 'ALBANY COUNTY',\n",
    "    'ALBNAY', 'NEW ALBANY', 'ALBNY', 'ALBANY NY']\n",
    "\n",
    "albany_cars = getCarData(albanys)\n",
    "albany_gas = albany_cars[albany_cars['Fuel Type'] == 'GAS']\n",
    "albany_gas = albany_gas.reset_index()\n",
    "albany_gas = albany_gas.set_index('Reg Valid Date')\n",
    "albany_gas = albany_gas.resample('M').count()\n",
    "albany_electric = albany_cars[albany_cars['Fuel Type'] == 'ELECTRIC']\n",
    "albany_electric = albany_electric.reset_index()\n",
    "albany_electric = albany_electric.set_index('Reg Valid Date')\n",
    "albany_electric = albany_electric.resample('M').count()\n",
    "\n",
    "albany_aq = aq_df[aq_df['ReportingArea'] == 'Upper Hudson Valley Region']\n"
   ]
  },
  {
   "cell_type": "code",
   "execution_count": 76,
   "metadata": {},
   "outputs": [],
   "source": [
    "Rochester = ['ROCHESTER', 'EAST ROCHESTER', 'E ROCHESTER',\n",
    "    'ROCHESTER NY', 'ROCHESTERR']\n",
    "\n",
    "rochester_cars = getCarData(Rochester)\n",
    "rochester_gas = rochester_cars[rochester_cars['Fuel Type'] == 'GAS']\n",
    "rochester_gas = rochester_gas.reset_index()\n",
    "rochester_gas = rochester_gas.set_index('Reg Valid Date')\n",
    "rochester_gas = rochester_gas.resample('M').count()\n",
    "rochester_electric = rochester_cars[rochester_cars['Fuel Type'] == 'ELECTRIC']\n",
    "rochester_electric = rochester_electric.reset_index()\n",
    "rochester_electric = rochester_electric.set_index('Reg Valid Date')\n",
    "rochester_electric = rochester_electric.resample('M').count()\n",
    "\n",
    "rochester_aq = aq_df[aq_df['ReportingArea'] == 'Eastern Lake Ontario Region']\n"
   ]
  },
  {
   "cell_type": "code",
   "execution_count": 81,
   "metadata": {},
   "outputs": [
    {
     "data": {
      "text/plain": [
       "35.75"
      ]
     },
     "metadata": {},
     "output_type": "display_data"
    },
    {
     "data": {
      "text/plain": [
       "38.227722772277225"
      ]
     },
     "metadata": {},
     "output_type": "display_data"
    }
   ],
   "source": [
    "display(rochester_aq[\"AQI\"].mean())\n",
    "display(albany_aq[\"AQI\"].mean())"
   ]
  },
  {
   "cell_type": "code",
   "execution_count": 119,
   "metadata": {},
   "outputs": [
    {
     "data": {
      "text/plain": [
       "9.541628159832273"
      ]
     },
     "execution_count": 119,
     "metadata": {},
     "output_type": "execute_result"
    }
   ],
   "source": [
    "fips = pd.read_csv(os.path.join(cwd, data_dir, 'fips2county.tsv'), sep='\\t')\n",
    "\n",
    "# ny_fips = fips[fips['StateName'] == 'NY'].values[0]\n",
    "nyc_fips = fips[(fips['CountyName'].isin(['New York', 'Bronx', 'Kings', 'Queens', 'Richmond'])) & (fips['StateName'].str.contains('New York'))]\n",
    "# albany_fips = ny_fips[ny_fips['county'].isin(['Albany'])]\n",
    "# rochester_fips = ny_fips[ny_fips['county'].isin(['Monroe'])]\n",
    "\n",
    "for county in nyc_fips['CountyCBSA'].values:\n",
    "    nyc_walkindex = pd.concat([walkability_df, walkability_df[\n",
    "        (walkability_df['CBSA'] == county)\n",
    "    ]])\n",
    "\n",
    "nyc_walkindex = nyc_walkindex.drop_duplicates()\n",
    "\n",
    "nyc_walkindex['NatWalkInd'].mean()"
   ]
  },
  {
   "cell_type": "code",
   "execution_count": 120,
   "metadata": {},
   "outputs": [
    {
     "data": {
      "text/html": [
       "<div>\n",
       "<style scoped>\n",
       "    .dataframe tbody tr th:only-of-type {\n",
       "        vertical-align: middle;\n",
       "    }\n",
       "\n",
       "    .dataframe tbody tr th {\n",
       "        vertical-align: top;\n",
       "    }\n",
       "\n",
       "    .dataframe thead th {\n",
       "        text-align: right;\n",
       "    }\n",
       "</style>\n",
       "<table border=\"1\" class=\"dataframe\">\n",
       "  <thead>\n",
       "    <tr style=\"text-align: right;\">\n",
       "      <th></th>\n",
       "      <th>StateFIPS</th>\n",
       "      <th>CountyFIPS_3</th>\n",
       "      <th>CountyName</th>\n",
       "      <th>StateName</th>\n",
       "      <th>CountyFIPS</th>\n",
       "      <th>StateAbbr</th>\n",
       "      <th>STATE_COUNTY</th>\n",
       "      <th>CountyCBSA</th>\n",
       "    </tr>\n",
       "  </thead>\n",
       "  <tbody>\n",
       "    <tr>\n",
       "      <th>1831</th>\n",
       "      <td>36</td>\n",
       "      <td>5</td>\n",
       "      <td>Bronx</td>\n",
       "      <td>New York</td>\n",
       "      <td>36005</td>\n",
       "      <td>NY</td>\n",
       "      <td>NY | BRONX</td>\n",
       "      <td>35620.0</td>\n",
       "    </tr>\n",
       "    <tr>\n",
       "      <th>1852</th>\n",
       "      <td>36</td>\n",
       "      <td>47</td>\n",
       "      <td>Kings</td>\n",
       "      <td>New York</td>\n",
       "      <td>36047</td>\n",
       "      <td>NY</td>\n",
       "      <td>NY | KINGS</td>\n",
       "      <td>35620.0</td>\n",
       "    </tr>\n",
       "    <tr>\n",
       "      <th>1859</th>\n",
       "      <td>36</td>\n",
       "      <td>61</td>\n",
       "      <td>New York</td>\n",
       "      <td>New York</td>\n",
       "      <td>36061</td>\n",
       "      <td>NY</td>\n",
       "      <td>NY | NEW YORK</td>\n",
       "      <td>35620.0</td>\n",
       "    </tr>\n",
       "    <tr>\n",
       "      <th>1869</th>\n",
       "      <td>36</td>\n",
       "      <td>81</td>\n",
       "      <td>Queens</td>\n",
       "      <td>New York</td>\n",
       "      <td>36081</td>\n",
       "      <td>NY</td>\n",
       "      <td>NY | QUEENS</td>\n",
       "      <td>35620.0</td>\n",
       "    </tr>\n",
       "    <tr>\n",
       "      <th>1871</th>\n",
       "      <td>36</td>\n",
       "      <td>85</td>\n",
       "      <td>Richmond</td>\n",
       "      <td>New York</td>\n",
       "      <td>36085</td>\n",
       "      <td>NY</td>\n",
       "      <td>NY | RICHMOND</td>\n",
       "      <td>35620.0</td>\n",
       "    </tr>\n",
       "  </tbody>\n",
       "</table>\n",
       "</div>"
      ],
      "text/plain": [
       "      StateFIPS  CountyFIPS_3 CountyName StateName  CountyFIPS StateAbbr  \\\n",
       "1831         36             5      Bronx  New York       36005        NY   \n",
       "1852         36            47      Kings  New York       36047        NY   \n",
       "1859         36            61   New York  New York       36061        NY   \n",
       "1869         36            81     Queens  New York       36081        NY   \n",
       "1871         36            85   Richmond  New York       36085        NY   \n",
       "\n",
       "       STATE_COUNTY  CountyCBSA  \n",
       "1831     NY | BRONX     35620.0  \n",
       "1852     NY | KINGS     35620.0  \n",
       "1859  NY | NEW YORK     35620.0  \n",
       "1869    NY | QUEENS     35620.0  \n",
       "1871  NY | RICHMOND     35620.0  "
      ]
     },
     "execution_count": 120,
     "metadata": {},
     "output_type": "execute_result"
    }
   ],
   "source": [
    "nyc_fips"
   ]
  },
  {
   "cell_type": "code",
   "execution_count": 121,
   "metadata": {},
   "outputs": [
    {
     "data": {
      "text/plain": [
       "count    220740.000000\n",
       "mean          9.541628\n",
       "std           4.373952\n",
       "min           1.000000\n",
       "25%           5.833333\n",
       "50%           9.166667\n",
       "75%          13.166667\n",
       "max          20.000000\n",
       "Name: NatWalkInd, dtype: float64"
      ]
     },
     "execution_count": 121,
     "metadata": {},
     "output_type": "execute_result"
    }
   ],
   "source": [
    "nyc_walkindex['NatWalkInd'].describe()"
   ]
  },
  {
   "cell_type": "code",
   "execution_count": 113,
   "metadata": {},
   "outputs": [
    {
     "data": {
      "text/plain": [
       "9.541628159832273"
      ]
     },
     "execution_count": 113,
     "metadata": {},
     "output_type": "execute_result"
    }
   ],
   "source": [
    "albany_fips = fips[(fips['CountyName'].isin(['Albany'])) & (fips['StateName'].str.contains('New York'))]\n",
    "albany_walkindex = pd.DataFrame()\n",
    "for county in albany_fips['CountyCBSA'].values:\n",
    "    albany_walkindex = pd.concat([walkability_df, walkability_df[\n",
    "        (walkability_df['CBSA'] == county)\n",
    "    ]])\n",
    "\n",
    "albany_walkindex = albany_walkindex.drop_duplicates()\n",
    "\n",
    "albany_walkindex['NatWalkInd'].mean()"
   ]
  },
  {
   "cell_type": "code",
   "execution_count": 114,
   "metadata": {},
   "outputs": [
    {
     "data": {
      "text/html": [
       "<div>\n",
       "<style scoped>\n",
       "    .dataframe tbody tr th:only-of-type {\n",
       "        vertical-align: middle;\n",
       "    }\n",
       "\n",
       "    .dataframe tbody tr th {\n",
       "        vertical-align: top;\n",
       "    }\n",
       "\n",
       "    .dataframe thead th {\n",
       "        text-align: right;\n",
       "    }\n",
       "</style>\n",
       "<table border=\"1\" class=\"dataframe\">\n",
       "  <thead>\n",
       "    <tr style=\"text-align: right;\">\n",
       "      <th></th>\n",
       "      <th>StateFIPS</th>\n",
       "      <th>CountyFIPS_3</th>\n",
       "      <th>CountyName</th>\n",
       "      <th>StateName</th>\n",
       "      <th>CountyFIPS</th>\n",
       "      <th>StateAbbr</th>\n",
       "      <th>STATE_COUNTY</th>\n",
       "      <th>CountyCBSA</th>\n",
       "    </tr>\n",
       "  </thead>\n",
       "  <tbody>\n",
       "    <tr>\n",
       "      <th>1829</th>\n",
       "      <td>36</td>\n",
       "      <td>1</td>\n",
       "      <td>Albany</td>\n",
       "      <td>New York</td>\n",
       "      <td>36001</td>\n",
       "      <td>NY</td>\n",
       "      <td>NY | ALBANY</td>\n",
       "      <td>10580.0</td>\n",
       "    </tr>\n",
       "  </tbody>\n",
       "</table>\n",
       "</div>"
      ],
      "text/plain": [
       "      StateFIPS  CountyFIPS_3 CountyName StateName  CountyFIPS StateAbbr  \\\n",
       "1829         36             1     Albany  New York       36001        NY   \n",
       "\n",
       "     STATE_COUNTY  CountyCBSA  \n",
       "1829  NY | ALBANY     10580.0  "
      ]
     },
     "execution_count": 114,
     "metadata": {},
     "output_type": "execute_result"
    }
   ],
   "source": [
    "albany_fips"
   ]
  },
  {
   "cell_type": "code",
   "execution_count": 122,
   "metadata": {},
   "outputs": [
    {
     "data": {
      "text/plain": [
       "count    220740.000000\n",
       "mean          9.541628\n",
       "std           4.373952\n",
       "min           1.000000\n",
       "25%           5.833333\n",
       "50%           9.166667\n",
       "75%          13.166667\n",
       "max          20.000000\n",
       "Name: NatWalkInd, dtype: float64"
      ]
     },
     "execution_count": 122,
     "metadata": {},
     "output_type": "execute_result"
    }
   ],
   "source": [
    "albany_walkindex['NatWalkInd'].describe()"
   ]
  },
  {
   "cell_type": "code",
   "execution_count": 127,
   "metadata": {},
   "outputs": [
    {
     "data": {
      "text/plain": [
       "9.542665132307267"
      ]
     },
     "execution_count": 127,
     "metadata": {},
     "output_type": "execute_result"
    }
   ],
   "source": [
    "rochester_fips = fips[(fips['CountyName'].isin(['Monroe'])) & (fips['StateName'].str.contains('New York'))]\n",
    "for county in rochester_fips['CountyCBSA'].values:\n",
    "    rochester_walkindex = pd.concat([walkability_df, walkability_df[\n",
    "        walkability_df['CBSA'] == county\n",
    "    ]])\n",
    "\n",
    "rochester_walkindex['NatWalkInd'].mean()"
   ]
  },
  {
   "cell_type": "code",
   "execution_count": 128,
   "metadata": {},
   "outputs": [
    {
     "data": {
      "text/html": [
       "<div>\n",
       "<style scoped>\n",
       "    .dataframe tbody tr th:only-of-type {\n",
       "        vertical-align: middle;\n",
       "    }\n",
       "\n",
       "    .dataframe tbody tr th {\n",
       "        vertical-align: top;\n",
       "    }\n",
       "\n",
       "    .dataframe thead th {\n",
       "        text-align: right;\n",
       "    }\n",
       "</style>\n",
       "<table border=\"1\" class=\"dataframe\">\n",
       "  <thead>\n",
       "    <tr style=\"text-align: right;\">\n",
       "      <th></th>\n",
       "      <th>StateFIPS</th>\n",
       "      <th>CountyFIPS_3</th>\n",
       "      <th>CountyName</th>\n",
       "      <th>StateName</th>\n",
       "      <th>CountyFIPS</th>\n",
       "      <th>StateAbbr</th>\n",
       "      <th>STATE_COUNTY</th>\n",
       "      <th>CountyCBSA</th>\n",
       "    </tr>\n",
       "  </thead>\n",
       "  <tbody>\n",
       "    <tr>\n",
       "      <th>1856</th>\n",
       "      <td>36</td>\n",
       "      <td>55</td>\n",
       "      <td>Monroe</td>\n",
       "      <td>New York</td>\n",
       "      <td>36055</td>\n",
       "      <td>NY</td>\n",
       "      <td>NY | MONROE</td>\n",
       "      <td>40380.0</td>\n",
       "    </tr>\n",
       "  </tbody>\n",
       "</table>\n",
       "</div>"
      ],
      "text/plain": [
       "      StateFIPS  CountyFIPS_3 CountyName StateName  CountyFIPS StateAbbr  \\\n",
       "1856         36            55     Monroe  New York       36055        NY   \n",
       "\n",
       "     STATE_COUNTY  CountyCBSA  \n",
       "1856  NY | MONROE     40380.0  "
      ]
     },
     "execution_count": 128,
     "metadata": {},
     "output_type": "execute_result"
    }
   ],
   "source": [
    "rochester_fips"
   ]
  },
  {
   "cell_type": "code",
   "execution_count": 129,
   "metadata": {},
   "outputs": [
    {
     "data": {
      "text/plain": [
       "count    221590.000000\n",
       "mean          9.542665\n",
       "std           4.373260\n",
       "min           1.000000\n",
       "25%           5.833333\n",
       "50%           9.166667\n",
       "75%          13.166667\n",
       "max          20.000000\n",
       "Name: NatWalkInd, dtype: float64"
      ]
     },
     "execution_count": 129,
     "metadata": {},
     "output_type": "execute_result"
    }
   ],
   "source": [
    "rochester_walkindex['NatWalkInd'].describe()"
   ]
  },
  {
   "cell_type": "code",
   "execution_count": null,
   "metadata": {},
   "outputs": [],
   "source": []
  },
  {
   "cell_type": "code",
   "execution_count": null,
   "metadata": {},
   "outputs": [],
   "source": []
  },
  {
   "cell_type": "code",
   "execution_count": null,
   "metadata": {},
   "outputs": [],
   "source": []
  }
 ],
 "metadata": {
  "kernelspec": {
   "display_name": "dev",
   "language": "python",
   "name": "python3"
  },
  "language_info": {
   "codemirror_mode": {
    "name": "ipython",
    "version": 3
   },
   "file_extension": ".py",
   "mimetype": "text/x-python",
   "name": "python",
   "nbconvert_exporter": "python",
   "pygments_lexer": "ipython3",
   "version": "3.10.13"
  }
 },
 "nbformat": 4,
 "nbformat_minor": 2
}
