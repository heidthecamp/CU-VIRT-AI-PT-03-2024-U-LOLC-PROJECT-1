{
 "cells": [
  {
   "cell_type": "markdown",
   "id": "e8153cba-3b18-4e54-8cc3-2b527f3a417b",
   "metadata": {},
   "source": [
    "#### Dependencies"
   ]
  },
  {
   "cell_type": "code",
   "execution_count": 1,
   "id": "96bb510f-8b3f-47d7-ac5d-90019d21c727",
   "metadata": {},
   "outputs": [],
   "source": [
    "import os\n",
    "import numpy as np\n",
    "import pandas as pd\n",
    "import matplotlib.pyplot as plt"
   ]
  },
  {
   "cell_type": "markdown",
   "id": "72095a7d-0a30-4443-89bf-df817d218653",
   "metadata": {},
   "source": [
    "#### Working Directory"
   ]
  },
  {
   "cell_type": "code",
   "execution_count": 2,
   "id": "f153529f-6fe4-4151-a2b9-09934bf52823",
   "metadata": {},
   "outputs": [
    {
     "data": {
      "text/plain": [
       "'C:\\\\Users\\\\Chris\\\\Desktop\\\\Columbia\\\\Project_1\\\\chris_branch'"
      ]
     },
     "execution_count": 2,
     "metadata": {},
     "output_type": "execute_result"
    }
   ],
   "source": [
    "os.getcwd()"
   ]
  },
  {
   "cell_type": "markdown",
   "id": "1c151919-127f-439d-ae5f-06547f82c545",
   "metadata": {},
   "source": [
    "#### Reading Data set¶"
   ]
  },
  {
   "cell_type": "code",
   "execution_count": 3,
   "id": "ecbaf362-d646-42c4-9d5d-ced7cde5fd82",
   "metadata": {},
   "outputs": [],
   "source": [
    "path = 'C:\\\\Users\\\\Chris\\\\Desktop\\\\Columbia\\\\Project_1\\\\CU-VIRT-AI-PT-03-2024-U-LOLC-PROJECT-1\\\\Resources\\\\Unemployment.csv'\n",
    "df = pd.read_csv(path)"
   ]
  },
  {
   "cell_type": "markdown",
   "id": "c9cb7ef8-fa9a-4896-afaa-e8cc5836ea15",
   "metadata": {},
   "source": [
    "#### EDA¶"
   ]
  },
  {
   "cell_type": "code",
   "execution_count": 4,
   "id": "f671e054-af69-4832-a1ba-330068a45a6f",
   "metadata": {},
   "outputs": [
    {
     "data": {
      "text/html": [
       "<div>\n",
       "<style scoped>\n",
       "    .dataframe tbody tr th:only-of-type {\n",
       "        vertical-align: middle;\n",
       "    }\n",
       "\n",
       "    .dataframe tbody tr th {\n",
       "        vertical-align: top;\n",
       "    }\n",
       "\n",
       "    .dataframe thead th {\n",
       "        text-align: right;\n",
       "    }\n",
       "</style>\n",
       "<table border=\"1\" class=\"dataframe\">\n",
       "  <thead>\n",
       "    <tr style=\"text-align: right;\">\n",
       "      <th></th>\n",
       "      <th>FIPS_Code</th>\n",
       "      <th>State</th>\n",
       "      <th>Area_Name</th>\n",
       "      <th>Attribute</th>\n",
       "      <th>Value</th>\n",
       "    </tr>\n",
       "  </thead>\n",
       "  <tbody>\n",
       "    <tr>\n",
       "      <th>0</th>\n",
       "      <td>0</td>\n",
       "      <td>US</td>\n",
       "      <td>United States</td>\n",
       "      <td>Civilian_labor_force_2000</td>\n",
       "      <td>142601576.0</td>\n",
       "    </tr>\n",
       "    <tr>\n",
       "      <th>1</th>\n",
       "      <td>0</td>\n",
       "      <td>US</td>\n",
       "      <td>United States</td>\n",
       "      <td>Employed_2000</td>\n",
       "      <td>136904853.0</td>\n",
       "    </tr>\n",
       "    <tr>\n",
       "      <th>2</th>\n",
       "      <td>0</td>\n",
       "      <td>US</td>\n",
       "      <td>United States</td>\n",
       "      <td>Unemployed_2000</td>\n",
       "      <td>5696723.0</td>\n",
       "    </tr>\n",
       "    <tr>\n",
       "      <th>3</th>\n",
       "      <td>0</td>\n",
       "      <td>US</td>\n",
       "      <td>United States</td>\n",
       "      <td>Unemployment_rate_2000</td>\n",
       "      <td>4.0</td>\n",
       "    </tr>\n",
       "    <tr>\n",
       "      <th>4</th>\n",
       "      <td>0</td>\n",
       "      <td>US</td>\n",
       "      <td>United States</td>\n",
       "      <td>Civilian_labor_force_2001</td>\n",
       "      <td>143786537.0</td>\n",
       "    </tr>\n",
       "  </tbody>\n",
       "</table>\n",
       "</div>"
      ],
      "text/plain": [
       "   FIPS_Code State      Area_Name                  Attribute        Value\n",
       "0          0    US  United States  Civilian_labor_force_2000  142601576.0\n",
       "1          0    US  United States              Employed_2000  136904853.0\n",
       "2          0    US  United States            Unemployed_2000    5696723.0\n",
       "3          0    US  United States     Unemployment_rate_2000          4.0\n",
       "4          0    US  United States  Civilian_labor_force_2001  143786537.0"
      ]
     },
     "execution_count": 4,
     "metadata": {},
     "output_type": "execute_result"
    }
   ],
   "source": [
    "df.head()"
   ]
  },
  {
   "cell_type": "markdown",
   "id": "267f2a3a-2586-4524-b545-aa94b98814b8",
   "metadata": {},
   "source": [
    "#### Info"
   ]
  },
  {
   "cell_type": "code",
   "execution_count": 5,
   "id": "358b2379-203b-439d-b143-cf2dc6e84fb5",
   "metadata": {},
   "outputs": [
    {
     "name": "stdout",
     "output_type": "stream",
     "text": [
      "<class 'pandas.core.frame.DataFrame'>\n",
      "RangeIndex: 316633 entries, 0 to 316632\n",
      "Data columns (total 5 columns):\n",
      " #   Column     Non-Null Count   Dtype  \n",
      "---  ------     --------------   -----  \n",
      " 0   FIPS_Code  316633 non-null  int64  \n",
      " 1   State      316633 non-null  object \n",
      " 2   Area_Name  316633 non-null  object \n",
      " 3   Attribute  316633 non-null  object \n",
      " 4   Value      316633 non-null  float64\n",
      "dtypes: float64(1), int64(1), object(3)\n",
      "memory usage: 12.1+ MB\n"
     ]
    }
   ],
   "source": [
    "df.info()"
   ]
  },
  {
   "cell_type": "markdown",
   "id": "ec27f8a0-8d47-4713-83d0-2501aa581e3c",
   "metadata": {},
   "source": [
    "#### States Col"
   ]
  },
  {
   "cell_type": "code",
   "execution_count": 6,
   "id": "0e374a6a-6a2d-447f-baf4-fcd483090b23",
   "metadata": {},
   "outputs": [
    {
     "data": {
      "text/plain": [
       "array(['US', 'AL', 'AK', 'AZ', 'AR', 'CA', 'CO', 'CT', 'DE', 'DC', 'FL',\n",
       "       'GA', 'HI', 'ID', 'IL', 'IN', 'IA', 'KS', 'KY', 'LA', 'ME', 'MD',\n",
       "       'MA', 'MI', 'MN', 'MS', 'MO', 'MT', 'NE', 'NV', 'NH', 'NJ', 'NM',\n",
       "       'NY', 'NC', 'ND', 'OH', 'OK', 'OR', 'PA', 'RI', 'SC', 'SD', 'TN',\n",
       "       'TX', 'UT', 'VT', 'VA', 'WA', 'WV', 'WI', 'WY', 'PR'], dtype=object)"
      ]
     },
     "execution_count": 6,
     "metadata": {},
     "output_type": "execute_result"
    }
   ],
   "source": [
    "df['State'].unique()"
   ]
  },
  {
   "cell_type": "markdown",
   "id": "0bec55ad-4260-45e9-aa52-e317b7feedd4",
   "metadata": {},
   "source": [
    "#### Extracting year"
   ]
  },
  {
   "cell_type": "code",
   "execution_count": 7,
   "id": "7547aba0-62b4-482a-8ce5-80d865aae897",
   "metadata": {},
   "outputs": [],
   "source": [
    "df['Date'] = df['Attribute'].str.extract('(\\d+)')\n",
    "df['Date'] = pd.to_datetime(df['Date'])"
   ]
  },
  {
   "cell_type": "markdown",
   "id": "203c84e3-60c1-4f95-b915-02172ff074d5",
   "metadata": {},
   "source": [
    "#### Modifying Attributes column"
   ]
  },
  {
   "cell_type": "code",
   "execution_count": 8,
   "id": "0c3cd6d1-1be7-4a1e-af8b-7cf9b00da1db",
   "metadata": {},
   "outputs": [],
   "source": [
    "df['Attribute']= df['Attribute'].str.replace('_\\d+', '',regex=True)"
   ]
  },
  {
   "cell_type": "markdown",
   "id": "9717998f-b844-41d7-ae68-fe7dd190f92d",
   "metadata": {},
   "source": [
    "#### Re-Orginizing cols"
   ]
  },
  {
   "cell_type": "code",
   "execution_count": 9,
   "id": "786fef56-3cc7-4f66-96b7-4574761b9b56",
   "metadata": {},
   "outputs": [
    {
     "data": {
      "text/html": [
       "<div>\n",
       "<style scoped>\n",
       "    .dataframe tbody tr th:only-of-type {\n",
       "        vertical-align: middle;\n",
       "    }\n",
       "\n",
       "    .dataframe tbody tr th {\n",
       "        vertical-align: top;\n",
       "    }\n",
       "\n",
       "    .dataframe thead th {\n",
       "        text-align: right;\n",
       "    }\n",
       "</style>\n",
       "<table border=\"1\" class=\"dataframe\">\n",
       "  <thead>\n",
       "    <tr style=\"text-align: right;\">\n",
       "      <th></th>\n",
       "      <th>Date</th>\n",
       "      <th>State</th>\n",
       "      <th>Area_Name</th>\n",
       "      <th>Attribute</th>\n",
       "      <th>Value</th>\n",
       "      <th>FIPS_Code</th>\n",
       "    </tr>\n",
       "  </thead>\n",
       "  <tbody>\n",
       "    <tr>\n",
       "      <th>0</th>\n",
       "      <td>2000-01-01</td>\n",
       "      <td>US</td>\n",
       "      <td>United States</td>\n",
       "      <td>Civilian_labor_force</td>\n",
       "      <td>142601576.0</td>\n",
       "      <td>0</td>\n",
       "    </tr>\n",
       "    <tr>\n",
       "      <th>1</th>\n",
       "      <td>2000-01-01</td>\n",
       "      <td>US</td>\n",
       "      <td>United States</td>\n",
       "      <td>Employed</td>\n",
       "      <td>136904853.0</td>\n",
       "      <td>0</td>\n",
       "    </tr>\n",
       "    <tr>\n",
       "      <th>2</th>\n",
       "      <td>2000-01-01</td>\n",
       "      <td>US</td>\n",
       "      <td>United States</td>\n",
       "      <td>Unemployed</td>\n",
       "      <td>5696723.0</td>\n",
       "      <td>0</td>\n",
       "    </tr>\n",
       "    <tr>\n",
       "      <th>3</th>\n",
       "      <td>2000-01-01</td>\n",
       "      <td>US</td>\n",
       "      <td>United States</td>\n",
       "      <td>Unemployment_rate</td>\n",
       "      <td>4.0</td>\n",
       "      <td>0</td>\n",
       "    </tr>\n",
       "    <tr>\n",
       "      <th>4</th>\n",
       "      <td>2001-01-01</td>\n",
       "      <td>US</td>\n",
       "      <td>United States</td>\n",
       "      <td>Civilian_labor_force</td>\n",
       "      <td>143786537.0</td>\n",
       "      <td>0</td>\n",
       "    </tr>\n",
       "  </tbody>\n",
       "</table>\n",
       "</div>"
      ],
      "text/plain": [
       "        Date State      Area_Name             Attribute        Value  \\\n",
       "0 2000-01-01    US  United States  Civilian_labor_force  142601576.0   \n",
       "1 2000-01-01    US  United States              Employed  136904853.0   \n",
       "2 2000-01-01    US  United States            Unemployed    5696723.0   \n",
       "3 2000-01-01    US  United States     Unemployment_rate          4.0   \n",
       "4 2001-01-01    US  United States  Civilian_labor_force  143786537.0   \n",
       "\n",
       "   FIPS_Code  \n",
       "0          0  \n",
       "1          0  \n",
       "2          0  \n",
       "3          0  \n",
       "4          0  "
      ]
     },
     "execution_count": 9,
     "metadata": {},
     "output_type": "execute_result"
    }
   ],
   "source": [
    "df=df[['Date','State','Area_Name','Attribute','Value','FIPS_Code']]\n",
    "df.head()"
   ]
  },
  {
   "cell_type": "markdown",
   "id": "d246b009-18c8-426a-b17a-3442fe8ba67f",
   "metadata": {},
   "source": [
    "#### Pivot Table"
   ]
  },
  {
   "cell_type": "code",
   "execution_count": 10,
   "id": "88eae1dc-8b2b-4308-a6b1-ee65273f3c1e",
   "metadata": {},
   "outputs": [
    {
     "data": {
      "text/html": [
       "<div>\n",
       "<style scoped>\n",
       "    .dataframe tbody tr th:only-of-type {\n",
       "        vertical-align: middle;\n",
       "    }\n",
       "\n",
       "    .dataframe tbody tr th {\n",
       "        vertical-align: top;\n",
       "    }\n",
       "\n",
       "    .dataframe thead th {\n",
       "        text-align: right;\n",
       "    }\n",
       "</style>\n",
       "<table border=\"1\" class=\"dataframe\">\n",
       "  <thead>\n",
       "    <tr style=\"text-align: right;\">\n",
       "      <th></th>\n",
       "      <th></th>\n",
       "      <th>Attribute</th>\n",
       "      <th>Civilian_labor_force</th>\n",
       "      <th>Employed</th>\n",
       "      <th>Med_HH_Income_Percent_of_State_Total</th>\n",
       "      <th>Median_Household_Income</th>\n",
       "      <th>Metro</th>\n",
       "      <th>Rural_Urban_Continuum_Code</th>\n",
       "      <th>Unemployed</th>\n",
       "      <th>Unemployment_rate</th>\n",
       "      <th>Urban_Influence_Code</th>\n",
       "    </tr>\n",
       "    <tr>\n",
       "      <th>Date</th>\n",
       "      <th>State</th>\n",
       "      <th>Area_Name</th>\n",
       "      <th></th>\n",
       "      <th></th>\n",
       "      <th></th>\n",
       "      <th></th>\n",
       "      <th></th>\n",
       "      <th></th>\n",
       "      <th></th>\n",
       "      <th></th>\n",
       "      <th></th>\n",
       "    </tr>\n",
       "  </thead>\n",
       "  <tbody>\n",
       "    <tr>\n",
       "      <th rowspan=\"5\" valign=\"top\">2000-01-01</th>\n",
       "      <th rowspan=\"5\" valign=\"top\">AK</th>\n",
       "      <th>Alaska</th>\n",
       "      <td>319777.0</td>\n",
       "      <td>299590.0</td>\n",
       "      <td>NaN</td>\n",
       "      <td>NaN</td>\n",
       "      <td>NaN</td>\n",
       "      <td>NaN</td>\n",
       "      <td>20187.0</td>\n",
       "      <td>6.3</td>\n",
       "      <td>NaN</td>\n",
       "    </tr>\n",
       "    <tr>\n",
       "      <th>Aleutians East Borough, AK</th>\n",
       "      <td>942.0</td>\n",
       "      <td>860.0</td>\n",
       "      <td>NaN</td>\n",
       "      <td>NaN</td>\n",
       "      <td>NaN</td>\n",
       "      <td>NaN</td>\n",
       "      <td>82.0</td>\n",
       "      <td>8.7</td>\n",
       "      <td>NaN</td>\n",
       "    </tr>\n",
       "    <tr>\n",
       "      <th>Aleutians West Census Area, AK</th>\n",
       "      <td>2738.0</td>\n",
       "      <td>2597.0</td>\n",
       "      <td>NaN</td>\n",
       "      <td>NaN</td>\n",
       "      <td>NaN</td>\n",
       "      <td>NaN</td>\n",
       "      <td>141.0</td>\n",
       "      <td>5.1</td>\n",
       "      <td>NaN</td>\n",
       "    </tr>\n",
       "    <tr>\n",
       "      <th>Anchorage Borough/municipality, AK</th>\n",
       "      <td>140750.0</td>\n",
       "      <td>133661.0</td>\n",
       "      <td>NaN</td>\n",
       "      <td>NaN</td>\n",
       "      <td>NaN</td>\n",
       "      <td>NaN</td>\n",
       "      <td>7089.0</td>\n",
       "      <td>5.0</td>\n",
       "      <td>NaN</td>\n",
       "    </tr>\n",
       "    <tr>\n",
       "      <th>Bethel Census Area, AK</th>\n",
       "      <td>6406.0</td>\n",
       "      <td>5833.0</td>\n",
       "      <td>NaN</td>\n",
       "      <td>NaN</td>\n",
       "      <td>NaN</td>\n",
       "      <td>NaN</td>\n",
       "      <td>573.0</td>\n",
       "      <td>8.9</td>\n",
       "      <td>NaN</td>\n",
       "    </tr>\n",
       "  </tbody>\n",
       "</table>\n",
       "</div>"
      ],
      "text/plain": [
       "Attribute                                            Civilian_labor_force  \\\n",
       "Date       State Area_Name                                                  \n",
       "2000-01-01 AK    Alaska                                          319777.0   \n",
       "                 Aleutians East Borough, AK                         942.0   \n",
       "                 Aleutians West Census Area, AK                    2738.0   \n",
       "                 Anchorage Borough/municipality, AK              140750.0   \n",
       "                 Bethel Census Area, AK                            6406.0   \n",
       "\n",
       "Attribute                                            Employed  \\\n",
       "Date       State Area_Name                                      \n",
       "2000-01-01 AK    Alaska                              299590.0   \n",
       "                 Aleutians East Borough, AK             860.0   \n",
       "                 Aleutians West Census Area, AK        2597.0   \n",
       "                 Anchorage Borough/municipality, AK  133661.0   \n",
       "                 Bethel Census Area, AK                5833.0   \n",
       "\n",
       "Attribute                                            Med_HH_Income_Percent_of_State_Total  \\\n",
       "Date       State Area_Name                                                                  \n",
       "2000-01-01 AK    Alaska                                                               NaN   \n",
       "                 Aleutians East Borough, AK                                           NaN   \n",
       "                 Aleutians West Census Area, AK                                       NaN   \n",
       "                 Anchorage Borough/municipality, AK                                   NaN   \n",
       "                 Bethel Census Area, AK                                               NaN   \n",
       "\n",
       "Attribute                                            Median_Household_Income  \\\n",
       "Date       State Area_Name                                                     \n",
       "2000-01-01 AK    Alaska                                                  NaN   \n",
       "                 Aleutians East Borough, AK                              NaN   \n",
       "                 Aleutians West Census Area, AK                          NaN   \n",
       "                 Anchorage Borough/municipality, AK                      NaN   \n",
       "                 Bethel Census Area, AK                                  NaN   \n",
       "\n",
       "Attribute                                            Metro  \\\n",
       "Date       State Area_Name                                   \n",
       "2000-01-01 AK    Alaska                                NaN   \n",
       "                 Aleutians East Borough, AK            NaN   \n",
       "                 Aleutians West Census Area, AK        NaN   \n",
       "                 Anchorage Borough/municipality, AK    NaN   \n",
       "                 Bethel Census Area, AK                NaN   \n",
       "\n",
       "Attribute                                            Rural_Urban_Continuum_Code  \\\n",
       "Date       State Area_Name                                                        \n",
       "2000-01-01 AK    Alaska                                                     NaN   \n",
       "                 Aleutians East Borough, AK                                 NaN   \n",
       "                 Aleutians West Census Area, AK                             NaN   \n",
       "                 Anchorage Borough/municipality, AK                         NaN   \n",
       "                 Bethel Census Area, AK                                     NaN   \n",
       "\n",
       "Attribute                                            Unemployed  \\\n",
       "Date       State Area_Name                                        \n",
       "2000-01-01 AK    Alaska                                 20187.0   \n",
       "                 Aleutians East Borough, AK                82.0   \n",
       "                 Aleutians West Census Area, AK           141.0   \n",
       "                 Anchorage Borough/municipality, AK      7089.0   \n",
       "                 Bethel Census Area, AK                   573.0   \n",
       "\n",
       "Attribute                                            Unemployment_rate  \\\n",
       "Date       State Area_Name                                               \n",
       "2000-01-01 AK    Alaska                                            6.3   \n",
       "                 Aleutians East Borough, AK                        8.7   \n",
       "                 Aleutians West Census Area, AK                    5.1   \n",
       "                 Anchorage Borough/municipality, AK                5.0   \n",
       "                 Bethel Census Area, AK                            8.9   \n",
       "\n",
       "Attribute                                            Urban_Influence_Code  \n",
       "Date       State Area_Name                                                 \n",
       "2000-01-01 AK    Alaska                                               NaN  \n",
       "                 Aleutians East Borough, AK                           NaN  \n",
       "                 Aleutians West Census Area, AK                       NaN  \n",
       "                 Anchorage Borough/municipality, AK                   NaN  \n",
       "                 Bethel Census Area, AK                               NaN  "
      ]
     },
     "execution_count": 10,
     "metadata": {},
     "output_type": "execute_result"
    }
   ],
   "source": [
    "df_pivot = pd.pivot_table(df,values = 'Value',index=['Date','State','Area_Name'],columns=['Attribute'])\n",
    "df_pivot.head()"
   ]
  },
  {
   "cell_type": "code",
   "execution_count": 11,
   "id": "b1ee44f2-2ab5-46dc-b856-de19e2ba1d4a",
   "metadata": {},
   "outputs": [
    {
     "name": "stdout",
     "output_type": "stream",
     "text": [
      "<class 'pandas.core.frame.DataFrame'>\n",
      "MultiIndex: 75128 entries, (Timestamp('2000-01-01 00:00:00'), 'AK', 'Alaska') to (Timestamp('2022-01-01 00:00:00'), 'WY', 'Wyoming')\n",
      "Data columns (total 9 columns):\n",
      " #   Column                                Non-Null Count  Dtype  \n",
      "---  ------                                --------------  -----  \n",
      " 0   Civilian_labor_force                  75123 non-null  float64\n",
      " 1   Employed                              75123 non-null  float64\n",
      " 2   Med_HH_Income_Percent_of_State_Total  3192 non-null   float64\n",
      " 3   Median_Household_Income               3193 non-null   float64\n",
      " 4   Metro                                 3224 non-null   float64\n",
      " 5   Rural_Urban_Continuum_Code            3219 non-null   float64\n",
      " 6   Unemployed                            75123 non-null  float64\n",
      " 7   Unemployment_rate                     75123 non-null  float64\n",
      " 8   Urban_Influence_Code                  3219 non-null   float64\n",
      "dtypes: float64(9)\n",
      "memory usage: 5.5+ MB\n"
     ]
    }
   ],
   "source": [
    "df_pivot.info()"
   ]
  },
  {
   "cell_type": "markdown",
   "id": "8e9cf671-a3c3-4372-835c-fc7c225144ff",
   "metadata": {},
   "source": [
    "#### Na count Viz"
   ]
  },
  {
   "cell_type": "code",
   "execution_count": 16,
   "id": "1417a63b-31a6-4ba4-b234-dde366a8caca",
   "metadata": {},
   "outputs": [
    {
     "data": {
      "text/plain": [
       "<Axes: xlabel='Attribute'>"
      ]
     },
     "execution_count": 16,
     "metadata": {},
     "output_type": "execute_result"
    },
    {
     "data": {
      "image/png": "[encoded data removed]",
      "text/plain": [
       "<Figure size 640x480 with 1 Axes>"
      ]
     },
     "metadata": {},
     "output_type": "display_data"
    }
   ],
   "source": [
    "df_pivot.isna().sum().plot(kind='bar',color='red')"
   ]
  },
  {
   "cell_type": "code",
   "execution_count": 17,
   "id": "bf7f3b24-c1ae-4a27-8cc8-ef7de932ef96",
   "metadata": {},
   "outputs": [],
   "source": [
    "df_pivot.drop(columns = ['Med_HH_Income_Percent_of_State_Total', 'Median_Household_Income','Metro', 'Rural_Urban_Continuum_Code','Urban_Influence_Code'],\n",
    "              inplace=True)"
   ]
  },
  {
   "cell_type": "markdown",
   "id": "1a07be55-88d7-45ea-bacc-d7c8fabb681e",
   "metadata": {},
   "source": [
    "#### Dropped NA cols"
   ]
  },
  {
   "cell_type": "code",
   "execution_count": 18,
   "id": "3340ef01-0cdb-4b52-96b1-347bb1f76e5f",
   "metadata": {},
   "outputs": [
    {
     "data": {
      "text/html": [
       "<div>\n",
       "<style scoped>\n",
       "    .dataframe tbody tr th:only-of-type {\n",
       "        vertical-align: middle;\n",
       "    }\n",
       "\n",
       "    .dataframe tbody tr th {\n",
       "        vertical-align: top;\n",
       "    }\n",
       "\n",
       "    .dataframe thead th {\n",
       "        text-align: right;\n",
       "    }\n",
       "</style>\n",
       "<table border=\"1\" class=\"dataframe\">\n",
       "  <thead>\n",
       "    <tr style=\"text-align: right;\">\n",
       "      <th></th>\n",
       "      <th></th>\n",
       "      <th>Attribute</th>\n",
       "      <th>Civilian_labor_force</th>\n",
       "      <th>Employed</th>\n",
       "      <th>Unemployed</th>\n",
       "      <th>Unemployment_rate</th>\n",
       "    </tr>\n",
       "    <tr>\n",
       "      <th>Date</th>\n",
       "      <th>State</th>\n",
       "      <th>Area_Name</th>\n",
       "      <th></th>\n",
       "      <th></th>\n",
       "      <th></th>\n",
       "      <th></th>\n",
       "    </tr>\n",
       "  </thead>\n",
       "  <tbody>\n",
       "    <tr>\n",
       "      <th rowspan=\"5\" valign=\"top\">2000-01-01</th>\n",
       "      <th rowspan=\"5\" valign=\"top\">AK</th>\n",
       "      <th>Alaska</th>\n",
       "      <td>319777.0</td>\n",
       "      <td>299590.0</td>\n",
       "      <td>20187.0</td>\n",
       "      <td>6.3</td>\n",
       "    </tr>\n",
       "    <tr>\n",
       "      <th>Aleutians East Borough, AK</th>\n",
       "      <td>942.0</td>\n",
       "      <td>860.0</td>\n",
       "      <td>82.0</td>\n",
       "      <td>8.7</td>\n",
       "    </tr>\n",
       "    <tr>\n",
       "      <th>Aleutians West Census Area, AK</th>\n",
       "      <td>2738.0</td>\n",
       "      <td>2597.0</td>\n",
       "      <td>141.0</td>\n",
       "      <td>5.1</td>\n",
       "    </tr>\n",
       "    <tr>\n",
       "      <th>Anchorage Borough/municipality, AK</th>\n",
       "      <td>140750.0</td>\n",
       "      <td>133661.0</td>\n",
       "      <td>7089.0</td>\n",
       "      <td>5.0</td>\n",
       "    </tr>\n",
       "    <tr>\n",
       "      <th>Bethel Census Area, AK</th>\n",
       "      <td>6406.0</td>\n",
       "      <td>5833.0</td>\n",
       "      <td>573.0</td>\n",
       "      <td>8.9</td>\n",
       "    </tr>\n",
       "  </tbody>\n",
       "</table>\n",
       "</div>"
      ],
      "text/plain": [
       "Attribute                                            Civilian_labor_force  \\\n",
       "Date       State Area_Name                                                  \n",
       "2000-01-01 AK    Alaska                                          319777.0   \n",
       "                 Aleutians East Borough, AK                         942.0   \n",
       "                 Aleutians West Census Area, AK                    2738.0   \n",
       "                 Anchorage Borough/municipality, AK              140750.0   \n",
       "                 Bethel Census Area, AK                            6406.0   \n",
       "\n",
       "Attribute                                            Employed  Unemployed  \\\n",
       "Date       State Area_Name                                                  \n",
       "2000-01-01 AK    Alaska                              299590.0     20187.0   \n",
       "                 Aleutians East Borough, AK             860.0        82.0   \n",
       "                 Aleutians West Census Area, AK        2597.0       141.0   \n",
       "                 Anchorage Borough/municipality, AK  133661.0      7089.0   \n",
       "                 Bethel Census Area, AK                5833.0       573.0   \n",
       "\n",
       "Attribute                                            Unemployment_rate  \n",
       "Date       State Area_Name                                              \n",
       "2000-01-01 AK    Alaska                                            6.3  \n",
       "                 Aleutians East Borough, AK                        8.7  \n",
       "                 Aleutians West Census Area, AK                    5.1  \n",
       "                 Anchorage Borough/municipality, AK                5.0  \n",
       "                 Bethel Census Area, AK                            8.9  "
      ]
     },
     "execution_count": 18,
     "metadata": {},
     "output_type": "execute_result"
    }
   ],
   "source": [
    "df_pivot.head()"
   ]
  },
  {
   "cell_type": "code",
   "execution_count": 19,
   "id": "a39cbe67-1ddb-4260-9583-0ab212fec25a",
   "metadata": {},
   "outputs": [
    {
     "data": {
      "text/html": [
       "<div>\n",
       "<style scoped>\n",
       "    .dataframe tbody tr th:only-of-type {\n",
       "        vertical-align: middle;\n",
       "    }\n",
       "\n",
       "    .dataframe tbody tr th {\n",
       "        vertical-align: top;\n",
       "    }\n",
       "\n",
       "    .dataframe thead th {\n",
       "        text-align: right;\n",
       "    }\n",
       "</style>\n",
       "<table border=\"1\" class=\"dataframe\">\n",
       "  <thead>\n",
       "    <tr style=\"text-align: right;\">\n",
       "      <th></th>\n",
       "      <th></th>\n",
       "      <th>Attribute</th>\n",
       "      <th>Civilian_labor_force</th>\n",
       "      <th>Employed</th>\n",
       "      <th>Unemployed</th>\n",
       "      <th>Unemployment_rate</th>\n",
       "    </tr>\n",
       "    <tr>\n",
       "      <th>Date</th>\n",
       "      <th>State</th>\n",
       "      <th>Area_Name</th>\n",
       "      <th></th>\n",
       "      <th></th>\n",
       "      <th></th>\n",
       "      <th></th>\n",
       "    </tr>\n",
       "  </thead>\n",
       "  <tbody>\n",
       "    <tr>\n",
       "      <th rowspan=\"5\" valign=\"top\">2022-01-01</th>\n",
       "      <th rowspan=\"5\" valign=\"top\">WY</th>\n",
       "      <th>Teton County, WY</th>\n",
       "      <td>16647.0</td>\n",
       "      <td>16193.0</td>\n",
       "      <td>454.0</td>\n",
       "      <td>2.7</td>\n",
       "    </tr>\n",
       "    <tr>\n",
       "      <th>Uinta County, WY</th>\n",
       "      <td>8863.0</td>\n",
       "      <td>8524.0</td>\n",
       "      <td>339.0</td>\n",
       "      <td>3.8</td>\n",
       "    </tr>\n",
       "    <tr>\n",
       "      <th>Washakie County, WY</th>\n",
       "      <td>3858.0</td>\n",
       "      <td>3704.0</td>\n",
       "      <td>154.0</td>\n",
       "      <td>4.0</td>\n",
       "    </tr>\n",
       "    <tr>\n",
       "      <th>Weston County, WY</th>\n",
       "      <td>3792.0</td>\n",
       "      <td>3691.0</td>\n",
       "      <td>101.0</td>\n",
       "      <td>2.7</td>\n",
       "    </tr>\n",
       "    <tr>\n",
       "      <th>Wyoming</th>\n",
       "      <td>291756.0</td>\n",
       "      <td>281343.0</td>\n",
       "      <td>10413.0</td>\n",
       "      <td>3.6</td>\n",
       "    </tr>\n",
       "  </tbody>\n",
       "</table>\n",
       "</div>"
      ],
      "text/plain": [
       "Attribute                             Civilian_labor_force  Employed  \\\n",
       "Date       State Area_Name                                             \n",
       "2022-01-01 WY    Teton County, WY                  16647.0   16193.0   \n",
       "                 Uinta County, WY                   8863.0    8524.0   \n",
       "                 Washakie County, WY                3858.0    3704.0   \n",
       "                 Weston County, WY                  3792.0    3691.0   \n",
       "                 Wyoming                          291756.0  281343.0   \n",
       "\n",
       "Attribute                             Unemployed  Unemployment_rate  \n",
       "Date       State Area_Name                                           \n",
       "2022-01-01 WY    Teton County, WY          454.0                2.7  \n",
       "                 Uinta County, WY          339.0                3.8  \n",
       "                 Washakie County, WY       154.0                4.0  \n",
       "                 Weston County, WY         101.0                2.7  \n",
       "                 Wyoming                 10413.0                3.6  "
      ]
     },
     "execution_count": 19,
     "metadata": {},
     "output_type": "execute_result"
    }
   ],
   "source": [
    "df_pivot.tail()"
   ]
  },
  {
   "cell_type": "markdown",
   "id": "af612ff0-d325-4c5c-8a0c-895734c67ce8",
   "metadata": {},
   "source": [
    "#### Year subset"
   ]
  },
  {
   "cell_type": "code",
   "execution_count": 20,
   "id": "224a59c9-b0b5-42c6-b312-4948695bbf24",
   "metadata": {},
   "outputs": [
    {
     "data": {
      "text/html": [
       "<div>\n",
       "<style scoped>\n",
       "    .dataframe tbody tr th:only-of-type {\n",
       "        vertical-align: middle;\n",
       "    }\n",
       "\n",
       "    .dataframe tbody tr th {\n",
       "        vertical-align: top;\n",
       "    }\n",
       "\n",
       "    .dataframe thead th {\n",
       "        text-align: right;\n",
       "    }\n",
       "</style>\n",
       "<table border=\"1\" class=\"dataframe\">\n",
       "  <thead>\n",
       "    <tr style=\"text-align: right;\">\n",
       "      <th></th>\n",
       "      <th></th>\n",
       "      <th>Attribute</th>\n",
       "      <th>Civilian_labor_force</th>\n",
       "      <th>Employed</th>\n",
       "      <th>Unemployed</th>\n",
       "      <th>Unemployment_rate</th>\n",
       "    </tr>\n",
       "    <tr>\n",
       "      <th>Date</th>\n",
       "      <th>State</th>\n",
       "      <th>Area_Name</th>\n",
       "      <th></th>\n",
       "      <th></th>\n",
       "      <th></th>\n",
       "      <th></th>\n",
       "    </tr>\n",
       "  </thead>\n",
       "  <tbody>\n",
       "    <tr>\n",
       "      <th rowspan=\"5\" valign=\"top\">2018-01-01</th>\n",
       "      <th rowspan=\"5\" valign=\"top\">AK</th>\n",
       "      <th>Alaska</th>\n",
       "      <td>355499.0</td>\n",
       "      <td>334068.0</td>\n",
       "      <td>21431.0</td>\n",
       "      <td>6.0</td>\n",
       "    </tr>\n",
       "    <tr>\n",
       "      <th>Aleutians East Borough, AK</th>\n",
       "      <td>2316.0</td>\n",
       "      <td>2250.0</td>\n",
       "      <td>66.0</td>\n",
       "      <td>2.8</td>\n",
       "    </tr>\n",
       "    <tr>\n",
       "      <th>Aleutians West Census Area, AK</th>\n",
       "      <td>3639.0</td>\n",
       "      <td>3521.0</td>\n",
       "      <td>118.0</td>\n",
       "      <td>3.2</td>\n",
       "    </tr>\n",
       "    <tr>\n",
       "      <th>Anchorage Borough/municipality, AK</th>\n",
       "      <td>150748.0</td>\n",
       "      <td>143152.0</td>\n",
       "      <td>7596.0</td>\n",
       "      <td>5.0</td>\n",
       "    </tr>\n",
       "    <tr>\n",
       "      <th>Bethel Census Area, AK</th>\n",
       "      <td>7136.0</td>\n",
       "      <td>6287.0</td>\n",
       "      <td>849.0</td>\n",
       "      <td>11.9</td>\n",
       "    </tr>\n",
       "  </tbody>\n",
       "</table>\n",
       "</div>"
      ],
      "text/plain": [
       "Attribute                                            Civilian_labor_force  \\\n",
       "Date       State Area_Name                                                  \n",
       "2018-01-01 AK    Alaska                                          355499.0   \n",
       "                 Aleutians East Borough, AK                        2316.0   \n",
       "                 Aleutians West Census Area, AK                    3639.0   \n",
       "                 Anchorage Borough/municipality, AK              150748.0   \n",
       "                 Bethel Census Area, AK                            7136.0   \n",
       "\n",
       "Attribute                                            Employed  Unemployed  \\\n",
       "Date       State Area_Name                                                  \n",
       "2018-01-01 AK    Alaska                              334068.0     21431.0   \n",
       "                 Aleutians East Borough, AK            2250.0        66.0   \n",
       "                 Aleutians West Census Area, AK        3521.0       118.0   \n",
       "                 Anchorage Borough/municipality, AK  143152.0      7596.0   \n",
       "                 Bethel Census Area, AK                6287.0       849.0   \n",
       "\n",
       "Attribute                                            Unemployment_rate  \n",
       "Date       State Area_Name                                              \n",
       "2018-01-01 AK    Alaska                                            6.0  \n",
       "                 Aleutians East Borough, AK                        2.8  \n",
       "                 Aleutians West Census Area, AK                    3.2  \n",
       "                 Anchorage Borough/municipality, AK                5.0  \n",
       "                 Bethel Census Area, AK                           11.9  "
      ]
     },
     "execution_count": 20,
     "metadata": {},
     "output_type": "execute_result"
    }
   ],
   "source": [
    "df_date = df_pivot['2018-01-01':'2022-01-01'][:][:]\n",
    "df_date.head()"
   ]
  },
  {
   "cell_type": "markdown",
   "id": "f387aa45-d5a8-4b18-8d7e-c5221360d580",
   "metadata": {},
   "source": [
    "#### NY State"
   ]
  },
  {
   "cell_type": "code",
   "execution_count": 21,
   "id": "709fa61a-a266-4f60-b06a-a3dabcb999cf",
   "metadata": {},
   "outputs": [
    {
     "data": {
      "text/html": [
       "<div>\n",
       "<style scoped>\n",
       "    .dataframe tbody tr th:only-of-type {\n",
       "        vertical-align: middle;\n",
       "    }\n",
       "\n",
       "    .dataframe tbody tr th {\n",
       "        vertical-align: top;\n",
       "    }\n",
       "\n",
       "    .dataframe thead th {\n",
       "        text-align: right;\n",
       "    }\n",
       "</style>\n",
       "<table border=\"1\" class=\"dataframe\">\n",
       "  <thead>\n",
       "    <tr style=\"text-align: right;\">\n",
       "      <th></th>\n",
       "      <th></th>\n",
       "      <th>Attribute</th>\n",
       "      <th>Civilian_labor_force</th>\n",
       "      <th>Employed</th>\n",
       "      <th>Unemployed</th>\n",
       "      <th>Unemployment_rate</th>\n",
       "    </tr>\n",
       "    <tr>\n",
       "      <th>Date</th>\n",
       "      <th>State</th>\n",
       "      <th>Area_Name</th>\n",
       "      <th></th>\n",
       "      <th></th>\n",
       "      <th></th>\n",
       "      <th></th>\n",
       "    </tr>\n",
       "  </thead>\n",
       "  <tbody>\n",
       "    <tr>\n",
       "      <th rowspan=\"5\" valign=\"top\">2018-01-01</th>\n",
       "      <th rowspan=\"5\" valign=\"top\">NY</th>\n",
       "      <th>Albany County, NY</th>\n",
       "      <td>161009.0</td>\n",
       "      <td>155092.0</td>\n",
       "      <td>5917.0</td>\n",
       "      <td>3.7</td>\n",
       "    </tr>\n",
       "    <tr>\n",
       "      <th>Allegany County, NY</th>\n",
       "      <td>19908.0</td>\n",
       "      <td>18802.0</td>\n",
       "      <td>1106.0</td>\n",
       "      <td>5.6</td>\n",
       "    </tr>\n",
       "    <tr>\n",
       "      <th>Bronx County, NY</th>\n",
       "      <td>626880.0</td>\n",
       "      <td>591303.0</td>\n",
       "      <td>35577.0</td>\n",
       "      <td>5.7</td>\n",
       "    </tr>\n",
       "    <tr>\n",
       "      <th>Broome County, NY</th>\n",
       "      <td>85989.0</td>\n",
       "      <td>81836.0</td>\n",
       "      <td>4153.0</td>\n",
       "      <td>4.8</td>\n",
       "    </tr>\n",
       "    <tr>\n",
       "      <th>Cattaraugus County, NY</th>\n",
       "      <td>34788.0</td>\n",
       "      <td>32949.0</td>\n",
       "      <td>1839.0</td>\n",
       "      <td>5.3</td>\n",
       "    </tr>\n",
       "    <tr>\n",
       "      <th>...</th>\n",
       "      <th>...</th>\n",
       "      <th>...</th>\n",
       "      <td>...</td>\n",
       "      <td>...</td>\n",
       "      <td>...</td>\n",
       "      <td>...</td>\n",
       "    </tr>\n",
       "    <tr>\n",
       "      <th rowspan=\"5\" valign=\"top\">2022-01-01</th>\n",
       "      <th rowspan=\"5\" valign=\"top\">NY</th>\n",
       "      <th>Washington County, NY</th>\n",
       "      <td>27552.0</td>\n",
       "      <td>26662.0</td>\n",
       "      <td>890.0</td>\n",
       "      <td>3.2</td>\n",
       "    </tr>\n",
       "    <tr>\n",
       "      <th>Wayne County, NY</th>\n",
       "      <td>43492.0</td>\n",
       "      <td>42101.0</td>\n",
       "      <td>1391.0</td>\n",
       "      <td>3.2</td>\n",
       "    </tr>\n",
       "    <tr>\n",
       "      <th>Westchester County, NY</th>\n",
       "      <td>496415.0</td>\n",
       "      <td>480910.0</td>\n",
       "      <td>15505.0</td>\n",
       "      <td>3.1</td>\n",
       "    </tr>\n",
       "    <tr>\n",
       "      <th>Wyoming County, NY</th>\n",
       "      <td>17510.0</td>\n",
       "      <td>16899.0</td>\n",
       "      <td>611.0</td>\n",
       "      <td>3.5</td>\n",
       "    </tr>\n",
       "    <tr>\n",
       "      <th>Yates County, NY</th>\n",
       "      <td>11671.0</td>\n",
       "      <td>11328.0</td>\n",
       "      <td>343.0</td>\n",
       "      <td>2.9</td>\n",
       "    </tr>\n",
       "  </tbody>\n",
       "</table>\n",
       "<p>315 rows × 4 columns</p>\n",
       "</div>"
      ],
      "text/plain": [
       "Attribute                                Civilian_labor_force  Employed  \\\n",
       "Date       State Area_Name                                                \n",
       "2018-01-01 NY    Albany County, NY                   161009.0  155092.0   \n",
       "                 Allegany County, NY                  19908.0   18802.0   \n",
       "                 Bronx County, NY                    626880.0  591303.0   \n",
       "                 Broome County, NY                    85989.0   81836.0   \n",
       "                 Cattaraugus County, NY               34788.0   32949.0   \n",
       "...                                                       ...       ...   \n",
       "2022-01-01 NY    Washington County, NY                27552.0   26662.0   \n",
       "                 Wayne County, NY                     43492.0   42101.0   \n",
       "                 Westchester County, NY              496415.0  480910.0   \n",
       "                 Wyoming County, NY                   17510.0   16899.0   \n",
       "                 Yates County, NY                     11671.0   11328.0   \n",
       "\n",
       "Attribute                                Unemployed  Unemployment_rate  \n",
       "Date       State Area_Name                                              \n",
       "2018-01-01 NY    Albany County, NY           5917.0                3.7  \n",
       "                 Allegany County, NY         1106.0                5.6  \n",
       "                 Bronx County, NY           35577.0                5.7  \n",
       "                 Broome County, NY           4153.0                4.8  \n",
       "                 Cattaraugus County, NY      1839.0                5.3  \n",
       "...                                             ...                ...  \n",
       "2022-01-01 NY    Washington County, NY        890.0                3.2  \n",
       "                 Wayne County, NY            1391.0                3.2  \n",
       "                 Westchester County, NY     15505.0                3.1  \n",
       "                 Wyoming County, NY           611.0                3.5  \n",
       "                 Yates County, NY             343.0                2.9  \n",
       "\n",
       "[315 rows x 4 columns]"
      ]
     },
     "execution_count": 21,
     "metadata": {},
     "output_type": "execute_result"
    }
   ],
   "source": [
    "df_NY = df_date.loc(axis=0)[:,['NY']]\n",
    "df_NY"
   ]
  },
  {
   "cell_type": "markdown",
   "id": "4fdef7b1-6989-4b29-bab0-7ba8031929f8",
   "metadata": {},
   "source": [
    "#### Bronx NY"
   ]
  },
  {
   "cell_type": "code",
   "execution_count": 22,
   "id": "77ce40e6-440b-46f7-8e63-04e0140a635f",
   "metadata": {},
   "outputs": [
    {
     "data": {
      "text/html": [
       "<div>\n",
       "<style scoped>\n",
       "    .dataframe tbody tr th:only-of-type {\n",
       "        vertical-align: middle;\n",
       "    }\n",
       "\n",
       "    .dataframe tbody tr th {\n",
       "        vertical-align: top;\n",
       "    }\n",
       "\n",
       "    .dataframe thead th {\n",
       "        text-align: right;\n",
       "    }\n",
       "</style>\n",
       "<table border=\"1\" class=\"dataframe\">\n",
       "  <thead>\n",
       "    <tr style=\"text-align: right;\">\n",
       "      <th></th>\n",
       "      <th></th>\n",
       "      <th>Attribute</th>\n",
       "      <th>Civilian_labor_force</th>\n",
       "      <th>Employed</th>\n",
       "      <th>Unemployed</th>\n",
       "      <th>Unemployment_rate</th>\n",
       "    </tr>\n",
       "    <tr>\n",
       "      <th>Date</th>\n",
       "      <th>State</th>\n",
       "      <th>Area_Name</th>\n",
       "      <th></th>\n",
       "      <th></th>\n",
       "      <th></th>\n",
       "      <th></th>\n",
       "    </tr>\n",
       "  </thead>\n",
       "  <tbody>\n",
       "    <tr>\n",
       "      <th>2018-01-01</th>\n",
       "      <th>NY</th>\n",
       "      <th>Bronx County, NY</th>\n",
       "      <td>626880.0</td>\n",
       "      <td>591303.0</td>\n",
       "      <td>35577.0</td>\n",
       "      <td>5.7</td>\n",
       "    </tr>\n",
       "    <tr>\n",
       "      <th>2019-01-01</th>\n",
       "      <th>NY</th>\n",
       "      <th>Bronx County, NY</th>\n",
       "      <td>625009.0</td>\n",
       "      <td>591519.0</td>\n",
       "      <td>33490.0</td>\n",
       "      <td>5.4</td>\n",
       "    </tr>\n",
       "    <tr>\n",
       "      <th>2020-01-01</th>\n",
       "      <th>NY</th>\n",
       "      <th>Bronx County, NY</th>\n",
       "      <td>613416.0</td>\n",
       "      <td>515459.0</td>\n",
       "      <td>97957.0</td>\n",
       "      <td>16.0</td>\n",
       "    </tr>\n",
       "    <tr>\n",
       "      <th>2021-01-01</th>\n",
       "      <th>NY</th>\n",
       "      <th>Bronx County, NY</th>\n",
       "      <td>614171.0</td>\n",
       "      <td>529675.0</td>\n",
       "      <td>84496.0</td>\n",
       "      <td>13.8</td>\n",
       "    </tr>\n",
       "    <tr>\n",
       "      <th>2022-01-01</th>\n",
       "      <th>NY</th>\n",
       "      <th>Bronx County, NY</th>\n",
       "      <td>603694.0</td>\n",
       "      <td>556635.0</td>\n",
       "      <td>47059.0</td>\n",
       "      <td>7.8</td>\n",
       "    </tr>\n",
       "  </tbody>\n",
       "</table>\n",
       "</div>"
      ],
      "text/plain": [
       "Attribute                          Civilian_labor_force  Employed  Unemployed  \\\n",
       "Date       State Area_Name                                                      \n",
       "2018-01-01 NY    Bronx County, NY              626880.0  591303.0     35577.0   \n",
       "2019-01-01 NY    Bronx County, NY              625009.0  591519.0     33490.0   \n",
       "2020-01-01 NY    Bronx County, NY              613416.0  515459.0     97957.0   \n",
       "2021-01-01 NY    Bronx County, NY              614171.0  529675.0     84496.0   \n",
       "2022-01-01 NY    Bronx County, NY              603694.0  556635.0     47059.0   \n",
       "\n",
       "Attribute                          Unemployment_rate  \n",
       "Date       State Area_Name                            \n",
       "2018-01-01 NY    Bronx County, NY                5.7  \n",
       "2019-01-01 NY    Bronx County, NY                5.4  \n",
       "2020-01-01 NY    Bronx County, NY               16.0  \n",
       "2021-01-01 NY    Bronx County, NY               13.8  \n",
       "2022-01-01 NY    Bronx County, NY                7.8  "
      ]
     },
     "execution_count": 22,
     "metadata": {},
     "output_type": "execute_result"
    }
   ],
   "source": [
    "df_Bronx = df_NY.loc(axis=0)[:,['NY'],['Bronx County, NY']]\n",
    "df_Bronx"
   ]
  },
  {
   "cell_type": "markdown",
   "id": "f6522769-9274-4060-83aa-aa1228571675",
   "metadata": {},
   "source": [
    "# ///////////////////////////////////////////////////////////////////////////////////////////////////////////////////"
   ]
  },
  {
   "cell_type": "code",
   "execution_count": 23,
   "id": "aa0b8578-3721-4407-ad21-ea22cb47e7d1",
   "metadata": {},
   "outputs": [],
   "source": [
    "path_1 = 'C:\\\\Users\\\\Chris\\\\Desktop\\\\Columbia\\\\Project_1\\\\CU-VIRT-AI-PT-03-2024-U-LOLC-PROJECT-1\\\\Resources\\\\MHINY36005A052NCEN.csv'"
   ]
  },
  {
   "cell_type": "code",
   "execution_count": null,
   "id": "7693a5a6-db57-4d80-a147-62a8bc40937f",
   "metadata": {},
   "outputs": [],
   "source": []
  },
  {
   "cell_type": "code",
   "execution_count": 24,
   "id": "8c486f34-2030-4b52-88f2-882dbed43f0d",
   "metadata": {},
   "outputs": [
    {
     "data": {
      "text/html": [
       "<div>\n",
       "<style scoped>\n",
       "    .dataframe tbody tr th:only-of-type {\n",
       "        vertical-align: middle;\n",
       "    }\n",
       "\n",
       "    .dataframe tbody tr th {\n",
       "        vertical-align: top;\n",
       "    }\n",
       "\n",
       "    .dataframe thead th {\n",
       "        text-align: right;\n",
       "    }\n",
       "</style>\n",
       "<table border=\"1\" class=\"dataframe\">\n",
       "  <thead>\n",
       "    <tr style=\"text-align: right;\">\n",
       "      <th></th>\n",
       "      <th>DATE</th>\n",
       "      <th>MHINY36005A052NCEN</th>\n",
       "    </tr>\n",
       "  </thead>\n",
       "  <tbody>\n",
       "    <tr>\n",
       "      <th>0</th>\n",
       "      <td>1989-01-01</td>\n",
       "      <td>19881</td>\n",
       "    </tr>\n",
       "    <tr>\n",
       "      <th>1</th>\n",
       "      <td>1990-01-01</td>\n",
       "      <td>.</td>\n",
       "    </tr>\n",
       "    <tr>\n",
       "      <th>2</th>\n",
       "      <td>1991-01-01</td>\n",
       "      <td>.</td>\n",
       "    </tr>\n",
       "    <tr>\n",
       "      <th>3</th>\n",
       "      <td>1992-01-01</td>\n",
       "      <td>.</td>\n",
       "    </tr>\n",
       "    <tr>\n",
       "      <th>4</th>\n",
       "      <td>1993-01-01</td>\n",
       "      <td>21454</td>\n",
       "    </tr>\n",
       "  </tbody>\n",
       "</table>\n",
       "</div>"
      ],
      "text/plain": [
       "         DATE MHINY36005A052NCEN\n",
       "0  1989-01-01              19881\n",
       "1  1990-01-01                  .\n",
       "2  1991-01-01                  .\n",
       "3  1992-01-01                  .\n",
       "4  1993-01-01              21454"
      ]
     },
     "execution_count": 24,
     "metadata": {},
     "output_type": "execute_result"
    }
   ],
   "source": [
    "med_df = pd.read_csv(path_1)\n",
    "med_df.head()"
   ]
  },
  {
   "cell_type": "markdown",
   "id": "bcf83037-4b3c-4d41-86df-0bde3abe90b6",
   "metadata": {},
   "source": [
    "#### Renaming Column"
   ]
  },
  {
   "cell_type": "code",
   "execution_count": 25,
   "id": "3f238804-4f8f-4c11-9e0b-25178474a509",
   "metadata": {},
   "outputs": [],
   "source": [
    "med_df.rename(columns={'DATE':'Date'},inplace=True)"
   ]
  },
  {
   "cell_type": "markdown",
   "id": "a44bb861-f9f2-4960-9c15-47e32b7252a8",
   "metadata": {},
   "source": [
    "#### Casting as datetime"
   ]
  },
  {
   "cell_type": "code",
   "execution_count": 26,
   "id": "dfb0a00b-9590-4e9e-b4d4-ef74e3baf00b",
   "metadata": {},
   "outputs": [],
   "source": [
    "med_df['Date'] = pd.to_datetime(med_df['Date'])"
   ]
  },
  {
   "cell_type": "markdown",
   "id": "4ee9c1f7-eea0-4c96-bcf0-9b8e63520166",
   "metadata": {},
   "source": [
    "#### 2018-2022"
   ]
  },
  {
   "cell_type": "code",
   "execution_count": 27,
   "id": "39a49c9e-f708-44be-b0d0-438c2af3c95d",
   "metadata": {},
   "outputs": [],
   "source": [
    "med_df.set_index('Date',inplace=True)"
   ]
  },
  {
   "cell_type": "code",
   "execution_count": 28,
   "id": "49c18e46-f391-478e-9f62-17bb569365a7",
   "metadata": {},
   "outputs": [
    {
     "data": {
      "text/html": [
       "<div>\n",
       "<style scoped>\n",
       "    .dataframe tbody tr th:only-of-type {\n",
       "        vertical-align: middle;\n",
       "    }\n",
       "\n",
       "    .dataframe tbody tr th {\n",
       "        vertical-align: top;\n",
       "    }\n",
       "\n",
       "    .dataframe thead th {\n",
       "        text-align: right;\n",
       "    }\n",
       "</style>\n",
       "<table border=\"1\" class=\"dataframe\">\n",
       "  <thead>\n",
       "    <tr style=\"text-align: right;\">\n",
       "      <th></th>\n",
       "      <th>MHINY36005A052NCEN</th>\n",
       "    </tr>\n",
       "    <tr>\n",
       "      <th>Date</th>\n",
       "      <th></th>\n",
       "    </tr>\n",
       "  </thead>\n",
       "  <tbody>\n",
       "    <tr>\n",
       "      <th>1989-01-01</th>\n",
       "      <td>19881</td>\n",
       "    </tr>\n",
       "    <tr>\n",
       "      <th>1990-01-01</th>\n",
       "      <td>.</td>\n",
       "    </tr>\n",
       "    <tr>\n",
       "      <th>1991-01-01</th>\n",
       "      <td>.</td>\n",
       "    </tr>\n",
       "    <tr>\n",
       "      <th>1992-01-01</th>\n",
       "      <td>.</td>\n",
       "    </tr>\n",
       "    <tr>\n",
       "      <th>1993-01-01</th>\n",
       "      <td>21454</td>\n",
       "    </tr>\n",
       "  </tbody>\n",
       "</table>\n",
       "</div>"
      ],
      "text/plain": [
       "           MHINY36005A052NCEN\n",
       "Date                         \n",
       "1989-01-01              19881\n",
       "1990-01-01                  .\n",
       "1991-01-01                  .\n",
       "1992-01-01                  .\n",
       "1993-01-01              21454"
      ]
     },
     "execution_count": 28,
     "metadata": {},
     "output_type": "execute_result"
    }
   ],
   "source": [
    "med_df.head()"
   ]
  },
  {
   "cell_type": "code",
   "execution_count": 29,
   "id": "ab0bfd0b-24e3-4395-aa40-c042cb0b49f0",
   "metadata": {},
   "outputs": [
    {
     "data": {
      "text/html": [
       "<div>\n",
       "<style scoped>\n",
       "    .dataframe tbody tr th:only-of-type {\n",
       "        vertical-align: middle;\n",
       "    }\n",
       "\n",
       "    .dataframe tbody tr th {\n",
       "        vertical-align: top;\n",
       "    }\n",
       "\n",
       "    .dataframe thead th {\n",
       "        text-align: right;\n",
       "    }\n",
       "</style>\n",
       "<table border=\"1\" class=\"dataframe\">\n",
       "  <thead>\n",
       "    <tr style=\"text-align: right;\">\n",
       "      <th></th>\n",
       "      <th>MHINY36005A052NCEN</th>\n",
       "    </tr>\n",
       "    <tr>\n",
       "      <th>Date</th>\n",
       "      <th></th>\n",
       "    </tr>\n",
       "  </thead>\n",
       "  <tbody>\n",
       "    <tr>\n",
       "      <th>2018-01-01</th>\n",
       "      <td>38566</td>\n",
       "    </tr>\n",
       "    <tr>\n",
       "      <th>2019-01-01</th>\n",
       "      <td>41470</td>\n",
       "    </tr>\n",
       "    <tr>\n",
       "      <th>2020-01-01</th>\n",
       "      <td>44906</td>\n",
       "    </tr>\n",
       "    <tr>\n",
       "      <th>2021-01-01</th>\n",
       "      <td>43143</td>\n",
       "    </tr>\n",
       "    <tr>\n",
       "      <th>2022-01-01</th>\n",
       "      <td>45864</td>\n",
       "    </tr>\n",
       "  </tbody>\n",
       "</table>\n",
       "</div>"
      ],
      "text/plain": [
       "           MHINY36005A052NCEN\n",
       "Date                         \n",
       "2018-01-01              38566\n",
       "2019-01-01              41470\n",
       "2020-01-01              44906\n",
       "2021-01-01              43143\n",
       "2022-01-01              45864"
      ]
     },
     "execution_count": 29,
     "metadata": {},
     "output_type": "execute_result"
    }
   ],
   "source": [
    "med_income_subset = med_df['2018-01-01':'2022-01-01']\n",
    "med_income_subset"
   ]
  },
  {
   "cell_type": "markdown",
   "id": "7987eed3-a76f-42be-8540-8644c5624682",
   "metadata": {},
   "source": [
    "#### Merging Data Frames"
   ]
  },
  {
   "cell_type": "code",
   "execution_count": 30,
   "id": "2ea8783c-46cc-4896-9862-f63aad566927",
   "metadata": {},
   "outputs": [],
   "source": [
    "df_Bronx = df_Bronx.join(med_income_subset,on='Date',how='left')"
   ]
  },
  {
   "cell_type": "code",
   "execution_count": 31,
   "id": "cd9464ab-80b6-4004-afb8-176981d190c2",
   "metadata": {},
   "outputs": [
    {
     "data": {
      "text/html": [
       "<div>\n",
       "<style scoped>\n",
       "    .dataframe tbody tr th:only-of-type {\n",
       "        vertical-align: middle;\n",
       "    }\n",
       "\n",
       "    .dataframe tbody tr th {\n",
       "        vertical-align: top;\n",
       "    }\n",
       "\n",
       "    .dataframe thead th {\n",
       "        text-align: right;\n",
       "    }\n",
       "</style>\n",
       "<table border=\"1\" class=\"dataframe\">\n",
       "  <thead>\n",
       "    <tr style=\"text-align: right;\">\n",
       "      <th></th>\n",
       "      <th></th>\n",
       "      <th></th>\n",
       "      <th>Civilian_labor_force</th>\n",
       "      <th>Employed</th>\n",
       "      <th>Unemployed</th>\n",
       "      <th>Unemployment_rate</th>\n",
       "      <th>MHINY36005A052NCEN</th>\n",
       "    </tr>\n",
       "    <tr>\n",
       "      <th>Date</th>\n",
       "      <th>State</th>\n",
       "      <th>Area_Name</th>\n",
       "      <th></th>\n",
       "      <th></th>\n",
       "      <th></th>\n",
       "      <th></th>\n",
       "      <th></th>\n",
       "    </tr>\n",
       "  </thead>\n",
       "  <tbody>\n",
       "    <tr>\n",
       "      <th>2018-01-01</th>\n",
       "      <th>NY</th>\n",
       "      <th>Bronx County, NY</th>\n",
       "      <td>626880.0</td>\n",
       "      <td>591303.0</td>\n",
       "      <td>35577.0</td>\n",
       "      <td>5.7</td>\n",
       "      <td>38566</td>\n",
       "    </tr>\n",
       "    <tr>\n",
       "      <th>2019-01-01</th>\n",
       "      <th>NY</th>\n",
       "      <th>Bronx County, NY</th>\n",
       "      <td>625009.0</td>\n",
       "      <td>591519.0</td>\n",
       "      <td>33490.0</td>\n",
       "      <td>5.4</td>\n",
       "      <td>41470</td>\n",
       "    </tr>\n",
       "    <tr>\n",
       "      <th>2020-01-01</th>\n",
       "      <th>NY</th>\n",
       "      <th>Bronx County, NY</th>\n",
       "      <td>613416.0</td>\n",
       "      <td>515459.0</td>\n",
       "      <td>97957.0</td>\n",
       "      <td>16.0</td>\n",
       "      <td>44906</td>\n",
       "    </tr>\n",
       "    <tr>\n",
       "      <th>2021-01-01</th>\n",
       "      <th>NY</th>\n",
       "      <th>Bronx County, NY</th>\n",
       "      <td>614171.0</td>\n",
       "      <td>529675.0</td>\n",
       "      <td>84496.0</td>\n",
       "      <td>13.8</td>\n",
       "      <td>43143</td>\n",
       "    </tr>\n",
       "    <tr>\n",
       "      <th>2022-01-01</th>\n",
       "      <th>NY</th>\n",
       "      <th>Bronx County, NY</th>\n",
       "      <td>603694.0</td>\n",
       "      <td>556635.0</td>\n",
       "      <td>47059.0</td>\n",
       "      <td>7.8</td>\n",
       "      <td>45864</td>\n",
       "    </tr>\n",
       "  </tbody>\n",
       "</table>\n",
       "</div>"
      ],
      "text/plain": [
       "                                   Civilian_labor_force  Employed  Unemployed  \\\n",
       "Date       State Area_Name                                                      \n",
       "2018-01-01 NY    Bronx County, NY              626880.0  591303.0     35577.0   \n",
       "2019-01-01 NY    Bronx County, NY              625009.0  591519.0     33490.0   \n",
       "2020-01-01 NY    Bronx County, NY              613416.0  515459.0     97957.0   \n",
       "2021-01-01 NY    Bronx County, NY              614171.0  529675.0     84496.0   \n",
       "2022-01-01 NY    Bronx County, NY              603694.0  556635.0     47059.0   \n",
       "\n",
       "                                   Unemployment_rate MHINY36005A052NCEN  \n",
       "Date       State Area_Name                                               \n",
       "2018-01-01 NY    Bronx County, NY                5.7              38566  \n",
       "2019-01-01 NY    Bronx County, NY                5.4              41470  \n",
       "2020-01-01 NY    Bronx County, NY               16.0              44906  \n",
       "2021-01-01 NY    Bronx County, NY               13.8              43143  \n",
       "2022-01-01 NY    Bronx County, NY                7.8              45864  "
      ]
     },
     "execution_count": 31,
     "metadata": {},
     "output_type": "execute_result"
    }
   ],
   "source": [
    "df_Bronx.head()"
   ]
  },
  {
   "cell_type": "markdown",
   "id": "b7960d43-782b-4b68-92b7-4498f762d44c",
   "metadata": {},
   "source": [
    "#### Renaming Column"
   ]
  },
  {
   "cell_type": "code",
   "execution_count": 32,
   "id": "f9cd073f-7b44-4378-a93c-97fb95ab2d08",
   "metadata": {},
   "outputs": [],
   "source": [
    "df_Bronx.rename(columns={'MHINY36005A052NCEN':'Med_house_hold_income'},inplace=True)"
   ]
  },
  {
   "cell_type": "markdown",
   "id": "cc17611d-2f19-49c7-8f30-6c3eee51f7c0",
   "metadata": {},
   "source": [
    "#### Resetting Index"
   ]
  },
  {
   "cell_type": "code",
   "execution_count": 33,
   "id": "d60ef1b9-53e3-4556-87a1-b73762daffc5",
   "metadata": {},
   "outputs": [],
   "source": [
    "df_Bronx.reset_index(inplace=True)"
   ]
  },
  {
   "cell_type": "markdown",
   "id": "5b242598-03bc-4808-8f2b-dcbef0741bd1",
   "metadata": {},
   "source": [
    "#### Setting 'Date' as Index"
   ]
  },
  {
   "cell_type": "code",
   "execution_count": 34,
   "id": "ea73220b-9017-4b3e-aabd-6eed02793d4e",
   "metadata": {},
   "outputs": [],
   "source": [
    "df_Bronx.set_index('Date',inplace=True)"
   ]
  },
  {
   "cell_type": "markdown",
   "id": "50fc31f8-952f-41bc-b4f5-bce21d31ec8a",
   "metadata": {},
   "source": [
    "#### Visaulization"
   ]
  },
  {
   "cell_type": "code",
   "execution_count": 60,
   "id": "99f429e1-55a8-4604-a59a-49425736a84f",
   "metadata": {},
   "outputs": [
    {
     "data": {
      "image/png": "[encoded data removed]",
      "text/plain": [
       "<Figure size 640x480 with 2 Axes>"
      ]
     },
     "metadata": {},
     "output_type": "display_data"
    }
   ],
   "source": [
    "fig,ax = plt.subplots(nrows = 2, ncols = 1,sharex=True)\n",
    "fig.tight_layout(pad=1.5)\n",
    "\n",
    "ax[0].plot(df_Bronx.index, df_Bronx['Unemployment_rate'],color = 'Orange', linestyle ='--')\n",
    "ax[0].set_title('Unemployment Rate')\n",
    "\n",
    "ax[1].plot(df_Bronx.index, df_Bronx['Med_house_hold_income'],color ='green',linestyle=':')\n",
    "ax[1].set_title('Med_house_hold_income')\n",
    "\n",
    "plt.xticks(rotation = 45)\n",
    "plt.show()"
   ]
  },
  {
   "cell_type": "markdown",
   "id": "e89076bd-2be5-4ad3-8df2-d816bd4d9436",
   "metadata": {},
   "source": [
    "#### Viz"
   ]
  },
  {
   "cell_type": "code",
   "execution_count": 61,
   "id": "1b96d020-5f6c-459c-9149-c7c2956d329d",
   "metadata": {},
   "outputs": [
    {
     "data": {
      "image/png": "[encoded data removed]",
      "text/plain": [
       "<Figure size 640x480 with 3 Axes>"
      ]
     },
     "metadata": {},
     "output_type": "display_data"
    }
   ],
   "source": [
    "fig,ax = plt.subplots(nrows = 3, ncols = 1,sharex=True)\n",
    "fig.tight_layout(pad=1.5)\n",
    "\n",
    "ax[0].plot(df_Bronx.index, df_Bronx['Employed'],color = 'blue', linestyle ='--')\n",
    "ax[0].set_title('Employed')\n",
    "\n",
    "ax[1].plot(df_Bronx.index, df_Bronx['Unemployed'],color ='red',linestyle=':')\n",
    "ax[1].set_title('Unemployed')\n",
    "\n",
    "ax[2].plot(df_Bronx.index, df_Bronx['Civilian_labor_force'],color ='green',)\n",
    "ax[2].set_title('Civilian_labor_force')\n",
    "\n",
    "plt.xticks(rotation = 45)\n",
    "plt.show()"
   ]
  },
  {
   "cell_type": "code",
   "execution_count": null,
   "id": "faff3d71-b0b8-49a3-88ed-61e786d9da5c",
   "metadata": {},
   "outputs": [],
   "source": []
  },
  {
   "cell_type": "code",
   "execution_count": null,
   "id": "1f4dee06-af9b-4acd-8493-e01a6b3876ad",
   "metadata": {},
   "outputs": [],
   "source": []
  },
  {
   "cell_type": "code",
   "execution_count": null,
   "id": "cf32e611-bd2e-4bc4-8bee-85653e9f5633",
   "metadata": {},
   "outputs": [],
   "source": []
  },
  {
   "cell_type": "code",
   "execution_count": null,
   "id": "3bbe9c1c-7537-4870-9a4e-3d3e280fba31",
   "metadata": {},
   "outputs": [],
   "source": []
  }
 ],
 "metadata": {
  "kernelspec": {
   "display_name": "Python 3 (ipykernel)",
   "language": "python",
   "name": "python3"
  },
  "language_info": {
   "codemirror_mode": {
    "name": "ipython",
    "version": 3
   },
   "file_extension": ".py",
   "mimetype": "text/x-python",
   "name": "python",
   "nbconvert_exporter": "python",
   "pygments_lexer": "ipython3",
   "version": "3.11.7"
  }
 },
 "nbformat": 4,
 "nbformat_minor": 5
}
