{
 "cells": [
  {
   "cell_type": "markdown",
   "metadata": {},
   "source": [
    "## Imports"
   ]
  },
  {
   "cell_type": "code",
   "execution_count": 1,
   "metadata": {},
   "outputs": [],
   "source": [
    "# import required libraries\n",
    "import os\n",
    "import pandas as pd\n",
    "import numpy as np\n",
    "import matplotlib.pyplot as plt\n",
    "import seaborn as sns\n",
    "\n",
    "from time import sleep\n",
    "\n",
    "from random import randint\n",
    "\n",
    "# set the directory for the data\n",
    "data_dir = 'Resources'\n",
    "\n",
    "# set the directory for the output\n",
    "output_dir = 'Output'\n",
    "\n",
    "import pathlib\n",
    "cwd = pathlib.Path().resolve()"
   ]
  },
  {
   "cell_type": "markdown",
   "metadata": {},
   "source": [
    "### Reading in data"
   ]
  },
  {
   "cell_type": "code",
   "execution_count": 2,
   "metadata": {},
   "outputs": [],
   "source": [
    "\n",
    "aq_df = pd.read_csv(os.path.join(os.getcwd(), output_dir,'air_quality.csv'))\n",
    "ev_stations_df = pd.read_csv(os.path.join(os.getcwd(), data_dir, 'Electric_Vehicle_Charging_Stations.csv'))\n",
    "walkability_df = pd.read_csv(os.path.join(os.getcwd(), data_dir, 'EPA_SmartLocationDatabase_V3_Jan_2021_Final.csv'))\n",
    "# income_df = pd.read_csv(os.path.join(cwd, data_dir, 'Income.csv'))\n",
    "vehicle_df = pd.read_csv(os.path.join(os.getcwd(), data_dir, 'Vehicle__Snowmobile__and_Boat_Registrations.csv'))\n"
   ]
  },
  {
   "cell_type": "markdown",
   "metadata": {},
   "source": [
    "### Format and clean vehicle registaion data"
   ]
  },
  {
   "cell_type": "code",
   "execution_count": 3,
   "metadata": {},
   "outputs": [
    {
     "name": "stderr",
     "output_type": "stream",
     "text": [
      "C:\\Users\\Chris\\AppData\\Local\\Temp\\ipykernel_3556\\3284376526.py:7: SettingWithCopyWarning: \n",
      "A value is trying to be set on a copy of a slice from a DataFrame.\n",
      "Try using .loc[row_indexer,col_indexer] = value instead\n",
      "\n",
      "See the caveats in the documentation: https://pandas.pydata.org/pandas-docs/stable/user_guide/indexing.html#returning-a-view-versus-a-copy\n",
      "  ny_vehcile_regestrations_df['Reg Valid Date'] = pd.to_datetime(ny_vehcile_regestrations_df['Reg Valid Date'])\n",
      "C:\\Users\\Chris\\AppData\\Local\\Temp\\ipykernel_3556\\3284376526.py:8: SettingWithCopyWarning: \n",
      "A value is trying to be set on a copy of a slice from a DataFrame.\n",
      "Try using .loc[row_indexer,col_indexer] = value instead\n",
      "\n",
      "See the caveats in the documentation: https://pandas.pydata.org/pandas-docs/stable/user_guide/indexing.html#returning-a-view-versus-a-copy\n",
      "  ny_vehcile_regestrations_df['Reg Expiration Date'] = pd.to_datetime(ny_vehcile_regestrations_df['Reg Expiration Date'])\n"
     ]
    },
    {
     "data": {
      "text/plain": [
       "City\n",
       "BROOKLYN          536605\n",
       "ROCHESTER         310424\n",
       "BRONX             283219\n",
       "STATEN ISLAND     282800\n",
       "NEW YORK          226600\n",
       "                   ...  \n",
       "KEW GARDN HLL          1\n",
       "KEW GARDNS HL          1\n",
       "KEW GARDNS HLL         1\n",
       "KEW GARENS             1\n",
       "ZONE PARK              1\n",
       "Name: count, Length: 23894, dtype: int64"
      ]
     },
     "metadata": {},
     "output_type": "display_data"
    }
   ],
   "source": [
    "# format and clean vehicle registaion data\n",
    "\n",
    "# filter for NY state\n",
    "ny_vehcile_regestrations_df = vehicle_df[vehicle_df['State'] == 'NY']\n",
    "\n",
    "# convert dates to datetime\n",
    "ny_vehcile_regestrations_df['Reg Valid Date'] = pd.to_datetime(ny_vehcile_regestrations_df['Reg Valid Date'])\n",
    "ny_vehcile_regestrations_df['Reg Expiration Date'] = pd.to_datetime(ny_vehcile_regestrations_df['Reg Expiration Date'])\n",
    "\n",
    "# filter for vehicles\n",
    "ny_vehcile_regestrations_df = ny_vehcile_regestrations_df[ny_vehcile_regestrations_df['Record Type'] == 'VEH']\n",
    "\n",
    "display(ny_vehcile_regestrations_df.value_counts('City'))\n"
   ]
  },
  {
   "cell_type": "markdown",
   "metadata": {},
   "source": [
    "### Data from the five boros"
   ]
  },
  {
   "cell_type": "code",
   "execution_count": 4,
   "metadata": {},
   "outputs": [],
   "source": [
    "# get data for all five boroughs\n",
    "manhattan = ['MANHATTAN', 'NEW YORK', 'BROOKLYN', 'QUEENS', 'BRONX', 'STATEN ISLAND']\n",
    "brooklyn = ['BROOKLYN', 'BRKLYN']\n",
    "queens = [\n",
    "'NEIGHBORHOODS','ALLEY POND PARK','ARVERNE','ASTORIA','ASTORIA HEIGHTS',\n",
    "'AUBURNDALE','BAY TERRACE','BAYSIDE','BAYSIDE HILLS','BAYSWATER','BEECHHURST',\n",
    "'BELLAIRE','BELLE HARBOR','BELLEROSE','BELLEROSE MANOR','BREEZY POINT',\n",
    "'BRIARWOOD','BROAD CHANNEL','BROADWAY-FLUSHING','BROOKVILLE','BROOKVILLE PARK',\n",
    "'CAMBRIA HEIGHTS','COLLEGE POINT','CORONA','CUNNINGHAM PARK','DITMARS-STEINWAY',\n",
    "'DOUGLAS MANOR','DOUGLASTON','DOWNTOWN FLUSHING','EAST ELMHURST','EDGEMERE',\n",
    "'ELMHURST','FAR ROCKAWAY','FLORAL PARK','FLUSHING HEIGHTS',\n",
    "'FLUSHING MEADOWS CORONA PARK','FOREST HILLS','FOREST HILLS GARDENS',\n",
    "'FOREST PARK','FORT TILDEN-JACOB RIIS PARKS','FRESH MEADOWS','GLEN OAKS',\n",
    "'GLENDALE','HAMILTON BEACH''HILLCREST','THE HOLE','HOLLIS','HOLLIS HILLS',\n",
    "'HOLLISWOOD','HOWARD BEACH','HUNTER \\'S POINT','JACKSON HEIGHTS','JAMAICA',\n",
    "'JAMAICA CENTER''JAMAICA ESTATES','JAMAICA HILLS','KEW GARDENS',\n",
    "'KEW GARDENS HILLS','KISSENA','KISSENA PARK','LAURELTON''LINDEN HILL',\n",
    "'LINDENWOOD','LITTLE NECK','LOCUST MANOR','LONG ISLAND CITY','MALBA','MASPETH',\n",
    "'MEADOWMERE','MIDDLE VILLAGE','MURRAY HILL','NEPONSIT','NEW HYDE PARK',\n",
    "'NORTH CORONA','OAKLAND GARDENS','OLD HOWARD BEACH','OZONE PARK','POMONOK',\n",
    "'QUEENS VILLAGE','QUEENSBORO HILL','REGO PARK','RICHMOND HILL',\n",
    "'RICHMOND HILL EAST','RIDGEWOOD''ROCHDALE','ROCKAWAY BEACH','ROCKAWAY PARK',\n",
    "'ROSEDALE','ROXBURY','SOUTH JAMAICA','SOUTH OZONE PARK','SOUTH RICHMOND HILL',\n",
    "'SPRINGFIELD GARDENS','ST. ALBANS','SUNNYSIDE','UTOPIA','WHITESTONE',\n",
    "'WILLETS POINT','WOODHAVEN','WOODSIDE'\n",
    "]\n",
    "bronx = ['BRONX']\n",
    "staten_island = ['STATEN ISLAND']\n",
    "borough_data = manhattan + brooklyn + queens + bronx + staten_island\n",
    "\n"
   ]
  },
  {
   "cell_type": "markdown",
   "metadata": {},
   "source": [
    "### Car data function"
   ]
  },
  {
   "cell_type": "code",
   "execution_count": 5,
   "metadata": {},
   "outputs": [],
   "source": [
    "def getCarData(city_names):\n",
    "    cars = pd.DataFrame()\n",
    "    for city in city_names:\n",
    "        cars = pd.concat([cars, ny_vehcile_regestrations_df.loc[ny_vehcile_regestrations_df['City'] == city]])\n",
    "    cars['VIN'] = cars['VIN'].fillna(value='Unknown')\n",
    "\n",
    "\n",
    "    # groups by VIN and gets the min and max dates for registration\n",
    "    cars = cars.groupby('VIN').agg({'Reg Valid Date': 'min', 'Reg Expiration Date': 'max', 'Fuel Type': 'first'})\n",
    "\n",
    "    # # filter for cars that were registered between 2018 and 2021\n",
    "    cars = cars.reset_index()\n",
    "\n",
    "    # # filter for cars that were registered between 2022 and 2024\n",
    "    cars = cars[(cars['Reg Valid Date'] > '2022-04') & (cars['Reg Valid Date'] < '2024-04')]\n",
    "\n",
    "    return cars"
   ]
  },
  {
   "cell_type": "markdown",
   "metadata": {},
   "source": [
    "### Car Data by boro"
   ]
  },
  {
   "cell_type": "code",
   "execution_count": 6,
   "metadata": {},
   "outputs": [],
   "source": [
    "bronx_cars = getCarData(bronx)\n",
    "brooklyn_cars = getCarData(brooklyn)\n",
    "queens_cars = getCarData(queens)\n",
    "manhattan_cars = getCarData(manhattan)\n",
    "staten_island_cars = getCarData(staten_island)"
   ]
  },
  {
   "cell_type": "markdown",
   "metadata": {},
   "source": [
    "### Fuel type by boro"
   ]
  },
  {
   "cell_type": "code",
   "execution_count": 7,
   "metadata": {},
   "outputs": [],
   "source": [
    "pivot_bronx_cars = pd.pivot_table(data = bronx_cars,values=['VIN'],index = ['Reg Valid Date'],columns = ['Fuel Type'],aggfunc=['value_counts'])\n",
    "pivot_bronx_cars = pivot_bronx_cars.droplevel(1,axis='index')\n",
    "pivot_bronx_cars = pivot_bronx_cars.droplevel(0,axis='columns')\n",
    "pivot_bronx_cars = pivot_bronx_cars.groupby(pivot_bronx_cars.index.to_period('M'))[['COMP N/G', 'DIESEL', 'ELECTRIC', 'FLEX', 'GAS', 'NONE', 'OTHER','PROPANE']].sum()\n",
    "\n",
    "pivot_brooklyn_cars = pd.pivot_table(data = brooklyn_cars,values=['VIN'],index = ['Reg Valid Date'],columns = ['Fuel Type'],aggfunc=['value_counts'])\n",
    "pivot_brooklyn_cars = pivot_brooklyn_cars.droplevel(1,axis='index')\n",
    "pivot_brooklyn_cars = pivot_brooklyn_cars.droplevel(0,axis='columns')\n",
    "pivot_brooklyn_cars = pivot_brooklyn_cars.groupby(pivot_brooklyn_cars.index.to_period('M'))[['COMP N/G', 'DIESEL', 'ELECTRIC', 'FLEX', 'GAS', 'NONE', 'OTHER','PROPANE']].sum()\n",
    "\n",
    "pivot_queens_cars = pd.pivot_table(data = bronx_cars,values=['VIN'],index = ['Reg Valid Date'],columns = ['Fuel Type'],aggfunc=['value_counts'])\n",
    "pivot_queens_cars = pivot_queens_cars.droplevel(1,axis='index')\n",
    "pivot_queens_cars = pivot_queens_cars.droplevel(0,axis='columns')\n",
    "pivot_queens_cars = pivot_queens_cars.groupby(pivot_queens_cars.index.to_period('M'))[['COMP N/G', 'DIESEL', 'ELECTRIC', 'FLEX', 'GAS', 'NONE', 'OTHER','PROPANE']].sum()\n",
    "\n",
    "pivot_manhattan_cars = pd.pivot_table(data = manhattan_cars,values=['VIN'],index = ['Reg Valid Date'],columns = ['Fuel Type'],aggfunc=['value_counts'])\n",
    "pivot_manhattan_cars = pivot_manhattan_cars.droplevel(1,axis='index')\n",
    "pivot_manhattan_cars = pivot_manhattan_cars.droplevel(0,axis='columns')\n",
    "pivot_manhattan_cars = pivot_manhattan_cars.groupby(pivot_manhattan_cars.index.to_period('M'))[['COMP N/G', 'DIESEL', 'ELECTRIC', 'FLEX', 'GAS', 'NONE', 'OTHER','PROPANE']].sum()\n",
    "\n",
    "pivot_staten_island_cars = pd.pivot_table(data = staten_island_cars,values=['VIN'],index = ['Reg Valid Date'],columns = ['Fuel Type'],aggfunc=['value_counts'])\n",
    "pivot_staten_island_cars = pivot_staten_island_cars.droplevel(1,axis='index')\n",
    "pivot_staten_island_cars = pivot_staten_island_cars.droplevel(0,axis='columns')\n",
    "pivot_staten_island_cars = pivot_staten_island_cars.groupby(pivot_staten_island_cars.index.to_period('M'))[['COMP N/G', 'DIESEL', 'ELECTRIC', 'FLEX', 'GAS', 'NONE', 'OTHER']].sum()\n"
   ]
  },
  {
   "cell_type": "markdown",
   "metadata": {},
   "source": [
    "#### Combining all the boros"
   ]
  },
  {
   "cell_type": "code",
   "execution_count": 8,
   "metadata": {},
   "outputs": [
    {
     "name": "stdout",
     "output_type": "stream",
     "text": [
      "<class 'pandas.core.frame.DataFrame'>\n",
      "PeriodIndex: 24 entries, 2022-04 to 2024-03\n",
      "Freq: M\n",
      "Data columns (total 8 columns):\n",
      " #   Column    Non-Null Count  Dtype  \n",
      "---  ------    --------------  -----  \n",
      " 0   COMP N/G  24 non-null     float64\n",
      " 1   DIESEL    24 non-null     float64\n",
      " 2   ELECTRIC  24 non-null     float64\n",
      " 3   FLEX      24 non-null     float64\n",
      " 4   GAS       24 non-null     float64\n",
      " 5   NONE      24 non-null     float64\n",
      " 6   OTHER     24 non-null     float64\n",
      " 7   PROPANE   0 non-null      float64\n",
      "dtypes: float64(8)\n",
      "memory usage: 1.7 KB\n"
     ]
    },
    {
     "data": {
      "text/plain": [
       "None"
      ]
     },
     "metadata": {},
     "output_type": "display_data"
    },
    {
     "data": {
      "text/html": [
       "<div>\n",
       "<style scoped>\n",
       "    .dataframe tbody tr th:only-of-type {\n",
       "        vertical-align: middle;\n",
       "    }\n",
       "\n",
       "    .dataframe tbody tr th {\n",
       "        vertical-align: top;\n",
       "    }\n",
       "\n",
       "    .dataframe thead th {\n",
       "        text-align: right;\n",
       "    }\n",
       "</style>\n",
       "<table border=\"1\" class=\"dataframe\">\n",
       "  <thead>\n",
       "    <tr style=\"text-align: right;\">\n",
       "      <th>Fuel Type</th>\n",
       "      <th>COMP N/G</th>\n",
       "      <th>DIESEL</th>\n",
       "      <th>ELECTRIC</th>\n",
       "      <th>FLEX</th>\n",
       "      <th>GAS</th>\n",
       "      <th>NONE</th>\n",
       "      <th>OTHER</th>\n",
       "      <th>PROPANE</th>\n",
       "    </tr>\n",
       "    <tr>\n",
       "      <th>Reg Valid Date</th>\n",
       "      <th></th>\n",
       "      <th></th>\n",
       "      <th></th>\n",
       "      <th></th>\n",
       "      <th></th>\n",
       "      <th></th>\n",
       "      <th></th>\n",
       "      <th></th>\n",
       "    </tr>\n",
       "  </thead>\n",
       "  <tbody>\n",
       "    <tr>\n",
       "      <th>2022-04</th>\n",
       "      <td>0.0</td>\n",
       "      <td>266.0</td>\n",
       "      <td>79.0</td>\n",
       "      <td>5.0</td>\n",
       "      <td>15168.0</td>\n",
       "      <td>2.0</td>\n",
       "      <td>2.0</td>\n",
       "      <td>NaN</td>\n",
       "    </tr>\n",
       "    <tr>\n",
       "      <th>2022-05</th>\n",
       "      <td>0.0</td>\n",
       "      <td>703.0</td>\n",
       "      <td>495.0</td>\n",
       "      <td>33.0</td>\n",
       "      <td>56077.0</td>\n",
       "      <td>27.0</td>\n",
       "      <td>14.0</td>\n",
       "      <td>NaN</td>\n",
       "    </tr>\n",
       "    <tr>\n",
       "      <th>2022-06</th>\n",
       "      <td>16.0</td>\n",
       "      <td>786.0</td>\n",
       "      <td>735.0</td>\n",
       "      <td>51.0</td>\n",
       "      <td>80139.0</td>\n",
       "      <td>33.0</td>\n",
       "      <td>24.0</td>\n",
       "      <td>NaN</td>\n",
       "    </tr>\n",
       "    <tr>\n",
       "      <th>2022-07</th>\n",
       "      <td>0.0</td>\n",
       "      <td>874.0</td>\n",
       "      <td>453.0</td>\n",
       "      <td>29.0</td>\n",
       "      <td>78063.0</td>\n",
       "      <td>36.0</td>\n",
       "      <td>17.0</td>\n",
       "      <td>NaN</td>\n",
       "    </tr>\n",
       "    <tr>\n",
       "      <th>2022-08</th>\n",
       "      <td>11.0</td>\n",
       "      <td>810.0</td>\n",
       "      <td>863.0</td>\n",
       "      <td>52.0</td>\n",
       "      <td>85168.0</td>\n",
       "      <td>19.0</td>\n",
       "      <td>14.0</td>\n",
       "      <td>NaN</td>\n",
       "    </tr>\n",
       "  </tbody>\n",
       "</table>\n",
       "</div>"
      ],
      "text/plain": [
       "Fuel Type       COMP N/G  DIESEL  ELECTRIC  FLEX      GAS  NONE  OTHER  \\\n",
       "Reg Valid Date                                                           \n",
       "2022-04              0.0   266.0      79.0   5.0  15168.0   2.0    2.0   \n",
       "2022-05              0.0   703.0     495.0  33.0  56077.0  27.0   14.0   \n",
       "2022-06             16.0   786.0     735.0  51.0  80139.0  33.0   24.0   \n",
       "2022-07              0.0   874.0     453.0  29.0  78063.0  36.0   17.0   \n",
       "2022-08             11.0   810.0     863.0  52.0  85168.0  19.0   14.0   \n",
       "\n",
       "Fuel Type       PROPANE  \n",
       "Reg Valid Date           \n",
       "2022-04             NaN  \n",
       "2022-05             NaN  \n",
       "2022-06             NaN  \n",
       "2022-07             NaN  \n",
       "2022-08             NaN  "
      ]
     },
     "metadata": {},
     "output_type": "display_data"
    }
   ],
   "source": [
    "boros_df = pivot_bronx_cars + pivot_brooklyn_cars + pivot_queens_cars + pivot_manhattan_cars + pivot_staten_island_cars\n",
    "display(boros_df.info())\n",
    "display(boros_df.head())"
   ]
  },
  {
   "cell_type": "markdown",
   "metadata": {},
   "source": [
    "#### Na count by feature"
   ]
  },
  {
   "cell_type": "code",
   "execution_count": 9,
   "metadata": {},
   "outputs": [
    {
     "data": {
      "image/png": "[encoded data removed]",
      "text/plain": [
       "<Figure size 640x480 with 1 Axes>"
      ]
     },
     "metadata": {},
     "output_type": "display_data"
    }
   ],
   "source": [
    "boros_df.isna().sum().plot(kind='bar',color='red')\n",
    "boros_df.drop(columns = ['PROPANE'],inplace = True)"
   ]
  },
  {
   "cell_type": "markdown",
   "metadata": {},
   "source": [
    "### Air Quality"
   ]
  },
  {
   "cell_type": "code",
   "execution_count": 10,
   "metadata": {},
   "outputs": [
    {
     "data": {
      "text/html": [
       "<div>\n",
       "<style scoped>\n",
       "    .dataframe tbody tr th:only-of-type {\n",
       "        vertical-align: middle;\n",
       "    }\n",
       "\n",
       "    .dataframe tbody tr th {\n",
       "        vertical-align: top;\n",
       "    }\n",
       "\n",
       "    .dataframe thead th {\n",
       "        text-align: right;\n",
       "    }\n",
       "</style>\n",
       "<table border=\"1\" class=\"dataframe\">\n",
       "  <thead>\n",
       "    <tr style=\"text-align: right;\">\n",
       "      <th></th>\n",
       "      <th>DateObserved</th>\n",
       "      <th>HourObserved</th>\n",
       "      <th>LocalTimeZone</th>\n",
       "      <th>ReportingArea</th>\n",
       "      <th>StateCode</th>\n",
       "      <th>Latitude</th>\n",
       "      <th>Longitude</th>\n",
       "      <th>ParameterName</th>\n",
       "      <th>AQI</th>\n",
       "      <th>CategoryNumber</th>\n",
       "      <th>CategoryName</th>\n",
       "      <th>Category</th>\n",
       "    </tr>\n",
       "  </thead>\n",
       "  <tbody>\n",
       "    <tr>\n",
       "      <th>0</th>\n",
       "      <td>2023-01-01</td>\n",
       "      <td>0</td>\n",
       "      <td>EST</td>\n",
       "      <td>New York City Region</td>\n",
       "      <td>NY</td>\n",
       "      <td>40.8419</td>\n",
       "      <td>-73.8359</td>\n",
       "      <td>PM2.5</td>\n",
       "      <td>54</td>\n",
       "      <td>2</td>\n",
       "      <td>Moderate</td>\n",
       "      <td>{'Number': 2, 'Name': 'Moderate'}</td>\n",
       "    </tr>\n",
       "    <tr>\n",
       "      <th>1</th>\n",
       "      <td>2023-01-15</td>\n",
       "      <td>0</td>\n",
       "      <td>EST</td>\n",
       "      <td>New York City Region</td>\n",
       "      <td>NY</td>\n",
       "      <td>40.8419</td>\n",
       "      <td>-73.8359</td>\n",
       "      <td>PM2.5</td>\n",
       "      <td>52</td>\n",
       "      <td>2</td>\n",
       "      <td>Moderate</td>\n",
       "      <td>{'Number': 2, 'Name': 'Moderate'}</td>\n",
       "    </tr>\n",
       "    <tr>\n",
       "      <th>2</th>\n",
       "      <td>2023-02-01</td>\n",
       "      <td>0</td>\n",
       "      <td>EST</td>\n",
       "      <td>New York City Region</td>\n",
       "      <td>NY</td>\n",
       "      <td>40.8419</td>\n",
       "      <td>-73.8359</td>\n",
       "      <td>PM2.5</td>\n",
       "      <td>53</td>\n",
       "      <td>2</td>\n",
       "      <td>Moderate</td>\n",
       "      <td>{'Number': 2, 'Name': 'Moderate'}</td>\n",
       "    </tr>\n",
       "    <tr>\n",
       "      <th>3</th>\n",
       "      <td>2023-02-15</td>\n",
       "      <td>0</td>\n",
       "      <td>EST</td>\n",
       "      <td>New York City Region</td>\n",
       "      <td>NY</td>\n",
       "      <td>40.8419</td>\n",
       "      <td>-73.8359</td>\n",
       "      <td>PM2.5</td>\n",
       "      <td>53</td>\n",
       "      <td>2</td>\n",
       "      <td>Moderate</td>\n",
       "      <td>{'Number': 2, 'Name': 'Moderate'}</td>\n",
       "    </tr>\n",
       "    <tr>\n",
       "      <th>4</th>\n",
       "      <td>2023-03-01</td>\n",
       "      <td>0</td>\n",
       "      <td>EST</td>\n",
       "      <td>New York City Region</td>\n",
       "      <td>NY</td>\n",
       "      <td>40.8419</td>\n",
       "      <td>-73.8359</td>\n",
       "      <td>PM2.5</td>\n",
       "      <td>52</td>\n",
       "      <td>2</td>\n",
       "      <td>Moderate</td>\n",
       "      <td>{'Number': 2, 'Name': 'Moderate'}</td>\n",
       "    </tr>\n",
       "  </tbody>\n",
       "</table>\n",
       "</div>"
      ],
      "text/plain": [
       "  DateObserved  HourObserved LocalTimeZone         ReportingArea StateCode  \\\n",
       "0   2023-01-01             0           EST  New York City Region        NY   \n",
       "1   2023-01-15             0           EST  New York City Region        NY   \n",
       "2   2023-02-01             0           EST  New York City Region        NY   \n",
       "3   2023-02-15             0           EST  New York City Region        NY   \n",
       "4   2023-03-01             0           EST  New York City Region        NY   \n",
       "\n",
       "   Latitude  Longitude ParameterName  AQI  CategoryNumber CategoryName  \\\n",
       "0   40.8419   -73.8359         PM2.5   54               2     Moderate   \n",
       "1   40.8419   -73.8359         PM2.5   52               2     Moderate   \n",
       "2   40.8419   -73.8359         PM2.5   53               2     Moderate   \n",
       "3   40.8419   -73.8359         PM2.5   53               2     Moderate   \n",
       "4   40.8419   -73.8359         PM2.5   52               2     Moderate   \n",
       "\n",
       "                            Category  \n",
       "0  {'Number': 2, 'Name': 'Moderate'}  \n",
       "1  {'Number': 2, 'Name': 'Moderate'}  \n",
       "2  {'Number': 2, 'Name': 'Moderate'}  \n",
       "3  {'Number': 2, 'Name': 'Moderate'}  \n",
       "4  {'Number': 2, 'Name': 'Moderate'}  "
      ]
     },
     "execution_count": 10,
     "metadata": {},
     "output_type": "execute_result"
    }
   ],
   "source": [
    "aq_df.head()"
   ]
  },
  {
   "cell_type": "markdown",
   "metadata": {},
   "source": [
    "#### Setting index"
   ]
  },
  {
   "cell_type": "code",
   "execution_count": 11,
   "metadata": {},
   "outputs": [],
   "source": [
    "aq_df['DateObserved'] = pd.to_datetime(aq_df['DateObserved'])\n",
    "aq_df.set_index('DateObserved',inplace=True)"
   ]
  },
  {
   "cell_type": "markdown",
   "metadata": {},
   "source": [
    "#### AQI Average by month"
   ]
  },
  {
   "cell_type": "code",
   "execution_count": 12,
   "metadata": {},
   "outputs": [
    {
     "data": {
      "text/html": [
       "<div>\n",
       "<style scoped>\n",
       "    .dataframe tbody tr th:only-of-type {\n",
       "        vertical-align: middle;\n",
       "    }\n",
       "\n",
       "    .dataframe tbody tr th {\n",
       "        vertical-align: top;\n",
       "    }\n",
       "\n",
       "    .dataframe thead th {\n",
       "        text-align: right;\n",
       "    }\n",
       "</style>\n",
       "<table border=\"1\" class=\"dataframe\">\n",
       "  <thead>\n",
       "    <tr style=\"text-align: right;\">\n",
       "      <th></th>\n",
       "      <th>AQI</th>\n",
       "    </tr>\n",
       "    <tr>\n",
       "      <th>DateObserved</th>\n",
       "      <th></th>\n",
       "    </tr>\n",
       "  </thead>\n",
       "  <tbody>\n",
       "    <tr>\n",
       "      <th>2023-01</th>\n",
       "      <td>53.0</td>\n",
       "    </tr>\n",
       "    <tr>\n",
       "      <th>2023-02</th>\n",
       "      <td>53.0</td>\n",
       "    </tr>\n",
       "    <tr>\n",
       "      <th>2023-03</th>\n",
       "      <td>53.5</td>\n",
       "    </tr>\n",
       "    <tr>\n",
       "      <th>2023-04</th>\n",
       "      <td>50.5</td>\n",
       "    </tr>\n",
       "    <tr>\n",
       "      <th>2023-05</th>\n",
       "      <td>32.0</td>\n",
       "    </tr>\n",
       "  </tbody>\n",
       "</table>\n",
       "</div>"
      ],
      "text/plain": [
       "               AQI\n",
       "DateObserved      \n",
       "2023-01       53.0\n",
       "2023-02       53.0\n",
       "2023-03       53.5\n",
       "2023-04       50.5\n",
       "2023-05       32.0"
      ]
     },
     "execution_count": 12,
     "metadata": {},
     "output_type": "execute_result"
    }
   ],
   "source": [
    "monthly_aq_df = aq_df.groupby(aq_df.index.to_period('M'))[['AQI']].mean()\n",
    "monthly_aq_df.head()"
   ]
  },
  {
   "cell_type": "markdown",
   "metadata": {},
   "source": [
    "#### Subsetting dataframes"
   ]
  },
  {
   "cell_type": "code",
   "execution_count": 13,
   "metadata": {},
   "outputs": [],
   "source": [
    "boros_df = boros_df['2023-01':'2024-03']\t\n",
    "monthly_aq_df = monthly_aq_df['2023-01':'2024-03']"
   ]
  },
  {
   "cell_type": "markdown",
   "metadata": {},
   "source": [
    "#### Joining data frames"
   ]
  },
  {
   "cell_type": "code",
   "execution_count": 14,
   "metadata": {},
   "outputs": [
    {
     "data": {
      "text/html": [
       "<div>\n",
       "<style scoped>\n",
       "    .dataframe tbody tr th:only-of-type {\n",
       "        vertical-align: middle;\n",
       "    }\n",
       "\n",
       "    .dataframe tbody tr th {\n",
       "        vertical-align: top;\n",
       "    }\n",
       "\n",
       "    .dataframe thead th {\n",
       "        text-align: right;\n",
       "    }\n",
       "</style>\n",
       "<table border=\"1\" class=\"dataframe\">\n",
       "  <thead>\n",
       "    <tr style=\"text-align: right;\">\n",
       "      <th></th>\n",
       "      <th>COMP N/G</th>\n",
       "      <th>DIESEL</th>\n",
       "      <th>ELECTRIC</th>\n",
       "      <th>FLEX</th>\n",
       "      <th>GAS</th>\n",
       "      <th>NONE</th>\n",
       "      <th>OTHER</th>\n",
       "      <th>AQI</th>\n",
       "    </tr>\n",
       "  </thead>\n",
       "  <tbody>\n",
       "    <tr>\n",
       "      <th>2023-01</th>\n",
       "      <td>4.0</td>\n",
       "      <td>718.0</td>\n",
       "      <td>733.0</td>\n",
       "      <td>107.0</td>\n",
       "      <td>79524.0</td>\n",
       "      <td>23.0</td>\n",
       "      <td>26.0</td>\n",
       "      <td>53.0</td>\n",
       "    </tr>\n",
       "    <tr>\n",
       "      <th>2023-02</th>\n",
       "      <td>0.0</td>\n",
       "      <td>882.0</td>\n",
       "      <td>847.0</td>\n",
       "      <td>74.0</td>\n",
       "      <td>82309.0</td>\n",
       "      <td>45.0</td>\n",
       "      <td>40.0</td>\n",
       "      <td>53.0</td>\n",
       "    </tr>\n",
       "    <tr>\n",
       "      <th>2023-03</th>\n",
       "      <td>6.0</td>\n",
       "      <td>1181.0</td>\n",
       "      <td>1109.0</td>\n",
       "      <td>116.0</td>\n",
       "      <td>111647.0</td>\n",
       "      <td>70.0</td>\n",
       "      <td>50.0</td>\n",
       "      <td>53.5</td>\n",
       "    </tr>\n",
       "    <tr>\n",
       "      <th>2023-04</th>\n",
       "      <td>124.0</td>\n",
       "      <td>1258.0</td>\n",
       "      <td>1109.0</td>\n",
       "      <td>118.0</td>\n",
       "      <td>105477.0</td>\n",
       "      <td>44.0</td>\n",
       "      <td>40.0</td>\n",
       "      <td>50.5</td>\n",
       "    </tr>\n",
       "    <tr>\n",
       "      <th>2023-05</th>\n",
       "      <td>53.0</td>\n",
       "      <td>2272.0</td>\n",
       "      <td>1370.0</td>\n",
       "      <td>128.0</td>\n",
       "      <td>135523.0</td>\n",
       "      <td>42.0</td>\n",
       "      <td>45.0</td>\n",
       "      <td>32.0</td>\n",
       "    </tr>\n",
       "  </tbody>\n",
       "</table>\n",
       "</div>"
      ],
      "text/plain": [
       "         COMP N/G  DIESEL  ELECTRIC   FLEX       GAS  NONE  OTHER   AQI\n",
       "2023-01       4.0   718.0     733.0  107.0   79524.0  23.0   26.0  53.0\n",
       "2023-02       0.0   882.0     847.0   74.0   82309.0  45.0   40.0  53.0\n",
       "2023-03       6.0  1181.0    1109.0  116.0  111647.0  70.0   50.0  53.5\n",
       "2023-04     124.0  1258.0    1109.0  118.0  105477.0  44.0   40.0  50.5\n",
       "2023-05      53.0  2272.0    1370.0  128.0  135523.0  42.0   45.0  32.0"
      ]
     },
     "execution_count": 14,
     "metadata": {},
     "output_type": "execute_result"
    }
   ],
   "source": [
    "aq_fuel_df = pd.concat([boros_df,monthly_aq_df], axis=1)\n",
    "aq_fuel_df.head()"
   ]
  },
  {
   "cell_type": "markdown",
   "metadata": {},
   "source": [
    "#### Correlation Table"
   ]
  },
  {
   "cell_type": "code",
   "execution_count": 15,
   "metadata": {},
   "outputs": [
    {
     "data": {
      "text/html": [
       "<div>\n",
       "<style scoped>\n",
       "    .dataframe tbody tr th:only-of-type {\n",
       "        vertical-align: middle;\n",
       "    }\n",
       "\n",
       "    .dataframe tbody tr th {\n",
       "        vertical-align: top;\n",
       "    }\n",
       "\n",
       "    .dataframe thead th {\n",
       "        text-align: right;\n",
       "    }\n",
       "</style>\n",
       "<table border=\"1\" class=\"dataframe\">\n",
       "  <thead>\n",
       "    <tr style=\"text-align: right;\">\n",
       "      <th></th>\n",
       "      <th>COMP N/G</th>\n",
       "      <th>DIESEL</th>\n",
       "      <th>ELECTRIC</th>\n",
       "      <th>FLEX</th>\n",
       "      <th>GAS</th>\n",
       "      <th>NONE</th>\n",
       "      <th>OTHER</th>\n",
       "      <th>AQI</th>\n",
       "    </tr>\n",
       "  </thead>\n",
       "  <tbody>\n",
       "    <tr>\n",
       "      <th>COMP N/G</th>\n",
       "      <td>1.000000</td>\n",
       "      <td>0.278866</td>\n",
       "      <td>-0.124307</td>\n",
       "      <td>0.361177</td>\n",
       "      <td>0.401692</td>\n",
       "      <td>0.305733</td>\n",
       "      <td>0.140663</td>\n",
       "      <td>-0.226526</td>\n",
       "    </tr>\n",
       "    <tr>\n",
       "      <th>DIESEL</th>\n",
       "      <td>0.278866</td>\n",
       "      <td>1.000000</td>\n",
       "      <td>0.437911</td>\n",
       "      <td>0.593761</td>\n",
       "      <td>0.521714</td>\n",
       "      <td>0.086320</td>\n",
       "      <td>0.422908</td>\n",
       "      <td>0.024880</td>\n",
       "    </tr>\n",
       "    <tr>\n",
       "      <th>ELECTRIC</th>\n",
       "      <td>-0.124307</td>\n",
       "      <td>0.437911</td>\n",
       "      <td>1.000000</td>\n",
       "      <td>0.240023</td>\n",
       "      <td>0.206749</td>\n",
       "      <td>0.012856</td>\n",
       "      <td>0.201856</td>\n",
       "      <td>0.217756</td>\n",
       "    </tr>\n",
       "    <tr>\n",
       "      <th>FLEX</th>\n",
       "      <td>0.361177</td>\n",
       "      <td>0.593761</td>\n",
       "      <td>0.240023</td>\n",
       "      <td>1.000000</td>\n",
       "      <td>0.774763</td>\n",
       "      <td>0.356124</td>\n",
       "      <td>0.576093</td>\n",
       "      <td>-0.186743</td>\n",
       "    </tr>\n",
       "    <tr>\n",
       "      <th>GAS</th>\n",
       "      <td>0.401692</td>\n",
       "      <td>0.521714</td>\n",
       "      <td>0.206749</td>\n",
       "      <td>0.774763</td>\n",
       "      <td>1.000000</td>\n",
       "      <td>0.527622</td>\n",
       "      <td>0.532163</td>\n",
       "      <td>-0.173908</td>\n",
       "    </tr>\n",
       "    <tr>\n",
       "      <th>NONE</th>\n",
       "      <td>0.305733</td>\n",
       "      <td>0.086320</td>\n",
       "      <td>0.012856</td>\n",
       "      <td>0.356124</td>\n",
       "      <td>0.527622</td>\n",
       "      <td>1.000000</td>\n",
       "      <td>0.364242</td>\n",
       "      <td>-0.048640</td>\n",
       "    </tr>\n",
       "    <tr>\n",
       "      <th>OTHER</th>\n",
       "      <td>0.140663</td>\n",
       "      <td>0.422908</td>\n",
       "      <td>0.201856</td>\n",
       "      <td>0.576093</td>\n",
       "      <td>0.532163</td>\n",
       "      <td>0.364242</td>\n",
       "      <td>1.000000</td>\n",
       "      <td>-0.501418</td>\n",
       "    </tr>\n",
       "    <tr>\n",
       "      <th>AQI</th>\n",
       "      <td>-0.226526</td>\n",
       "      <td>0.024880</td>\n",
       "      <td>0.217756</td>\n",
       "      <td>-0.186743</td>\n",
       "      <td>-0.173908</td>\n",
       "      <td>-0.048640</td>\n",
       "      <td>-0.501418</td>\n",
       "      <td>1.000000</td>\n",
       "    </tr>\n",
       "  </tbody>\n",
       "</table>\n",
       "</div>"
      ],
      "text/plain": [
       "          COMP N/G    DIESEL  ELECTRIC      FLEX       GAS      NONE  \\\n",
       "COMP N/G  1.000000  0.278866 -0.124307  0.361177  0.401692  0.305733   \n",
       "DIESEL    0.278866  1.000000  0.437911  0.593761  0.521714  0.086320   \n",
       "ELECTRIC -0.124307  0.437911  1.000000  0.240023  0.206749  0.012856   \n",
       "FLEX      0.361177  0.593761  0.240023  1.000000  0.774763  0.356124   \n",
       "GAS       0.401692  0.521714  0.206749  0.774763  1.000000  0.527622   \n",
       "NONE      0.305733  0.086320  0.012856  0.356124  0.527622  1.000000   \n",
       "OTHER     0.140663  0.422908  0.201856  0.576093  0.532163  0.364242   \n",
       "AQI      -0.226526  0.024880  0.217756 -0.186743 -0.173908 -0.048640   \n",
       "\n",
       "             OTHER       AQI  \n",
       "COMP N/G  0.140663 -0.226526  \n",
       "DIESEL    0.422908  0.024880  \n",
       "ELECTRIC  0.201856  0.217756  \n",
       "FLEX      0.576093 -0.186743  \n",
       "GAS       0.532163 -0.173908  \n",
       "NONE      0.364242 -0.048640  \n",
       "OTHER     1.000000 -0.501418  \n",
       "AQI      -0.501418  1.000000  "
      ]
     },
     "execution_count": 15,
     "metadata": {},
     "output_type": "execute_result"
    }
   ],
   "source": [
    "aq_fuel_df.corr()"
   ]
  },
  {
   "cell_type": "markdown",
   "metadata": {},
   "source": [
    "#### Visaulization"
   ]
  },
  {
   "cell_type": "code",
   "execution_count": 16,
   "metadata": {},
   "outputs": [
    {
     "data": {
      "text/plain": [
       "<Axes: >"
      ]
     },
     "execution_count": 16,
     "metadata": {},
     "output_type": "execute_result"
    },
    {
     "data": {
      "image/png": "[encoded data removed]",
      "text/plain": [
       "<Figure size 640x480 with 2 Axes>"
      ]
     },
     "metadata": {},
     "output_type": "display_data"
    }
   ],
   "source": [
    "sns.heatmap(aq_fuel_df.corr(),vmin=-1, vmax=1,cmap=\"YlGnBu\",annot=True)"
   ]
  },
  {
   "cell_type": "code",
   "execution_count": 20,
   "metadata": {},
   "outputs": [
    {
     "data": {
      "text/plain": [
       "Index(['COMP N/G', 'DIESEL', 'ELECTRIC', 'FLEX', 'GAS', 'NONE', 'OTHER',\n",
       "       'AQI'],\n",
       "      dtype='object')"
      ]
     },
     "execution_count": 20,
     "metadata": {},
     "output_type": "execute_result"
    }
   ],
   "source": [
    "aq_fuel_df.columns"
   ]
  },
  {
   "cell_type": "code",
   "execution_count": 24,
   "metadata": {},
   "outputs": [
    {
     "data": {
      "text/plain": [
       "<Axes: >"
      ]
     },
     "execution_count": 24,
     "metadata": {},
     "output_type": "execute_result"
    },
    {
     "data": {
      "image/png": "[encoded data removed]",
      "text/plain": [
       "<Figure size 640x480 with 1 Axes>"
      ]
     },
     "metadata": {},
     "output_type": "display_data"
    }
   ],
   "source": [
    "aq_fuel_df[['GAS','AQI','ELECTRIC','DIESEL']].plot()"
   ]
  },
  {
   "cell_type": "code",
   "execution_count": null,
   "metadata": {},
   "outputs": [],
   "source": []
  },
  {
   "cell_type": "code",
   "execution_count": null,
   "metadata": {},
   "outputs": [],
   "source": []
  },
  {
   "cell_type": "code",
   "execution_count": null,
   "metadata": {},
   "outputs": [],
   "source": []
  },
  {
   "cell_type": "code",
   "execution_count": null,
   "metadata": {},
   "outputs": [],
   "source": []
  },
  {
   "cell_type": "code",
   "execution_count": null,
   "metadata": {},
   "outputs": [],
   "source": []
  },
  {
   "cell_type": "code",
   "execution_count": null,
   "metadata": {},
   "outputs": [],
   "source": []
  },
  {
   "cell_type": "code",
   "execution_count": null,
   "metadata": {},
   "outputs": [],
   "source": []
  },
  {
   "cell_type": "code",
   "execution_count": null,
   "metadata": {},
   "outputs": [],
   "source": []
  },
  {
   "cell_type": "code",
   "execution_count": null,
   "metadata": {},
   "outputs": [],
   "source": []
  },
  {
   "cell_type": "code",
   "execution_count": null,
   "metadata": {},
   "outputs": [],
   "source": []
  },
  {
   "cell_type": "code",
   "execution_count": null,
   "metadata": {},
   "outputs": [],
   "source": []
  },
  {
   "cell_type": "code",
   "execution_count": null,
   "metadata": {},
   "outputs": [],
   "source": []
  },
  {
   "cell_type": "code",
   "execution_count": null,
   "metadata": {},
   "outputs": [],
   "source": []
  }
 ],
 "metadata": {
  "kernelspec": {
   "display_name": "Python 3 (ipykernel)",
   "language": "python",
   "name": "python3"
  },
  "language_info": {
   "codemirror_mode": {
    "name": "ipython",
    "version": 3
   },
   "file_extension": ".py",
   "mimetype": "text/x-python",
   "name": "python",
   "nbconvert_exporter": "python",
   "pygments_lexer": "ipython3",
   "version": "3.11.7"
  }
 },
 "nbformat": 4,
 "nbformat_minor": 4
}
